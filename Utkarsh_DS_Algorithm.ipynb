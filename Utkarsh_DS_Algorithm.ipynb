{
 "cells": [
  {
   "cell_type": "code",
   "execution_count": 1,
   "metadata": {},
   "outputs": [],
   "source": [
    "import string\n",
    "import pandas as pd\n",
    "\n",
    "class Node(object):\n",
    "    '''\n",
    "    This is a class that represents a node. The functions of a class are called methods. Instantiations of this class\n",
    "    will create objects that have access to the methods. \n",
    "    \n",
    "    Each method begins with an argument of \"self\" which lets the methos know which object it belongs to.\n",
    "    \n",
    "    For the Node object, we care about the name of the node and a dictionary naming the adjacent nodes. The adjacent\n",
    "    dictionary keys will be the name's of adjacent nodes and the value will be the weight of that edge.\n",
    "    '''\n",
    "    def __init__(self, name):\n",
    "        # The init method is magic python method that get's called when an object is instantiated. \n",
    "        self.name = name  # Take the name given at instantiation and assign it to the object\n",
    "        self.adjacent = {}  # When we create the node, we don't know about any adjacent nodes. Create a placeholder\n",
    "        \n",
    "    def __str__(self):\n",
    "        # When printing a node, format it like this:\n",
    "        return \"Node {}: {}\".format(self.name, self.adjacent)\n",
    "    \n",
    "    def __repr__(self):\n",
    "        # When representing this object, use the str method\n",
    "        return self.__str__()"
   ]
  },
  {
   "cell_type": "code",
   "execution_count": 2,
   "metadata": {},
   "outputs": [],
   "source": [
    "class Graph(object):\n",
    "    '''\n",
    "    This class represents a graph. The graph is consists of a collection of nodes. \n",
    "    '''\n",
    "    def __init__(self, adjacency_matrix=None):\n",
    "        '''\n",
    "        When the graph is instantiated it will not know about any of its member nodes. There is an optional \n",
    "        `adjacency_matrix` argument that defaults to None. If an adjacency_matrix is provided, then we can \n",
    "        create the member nodes, their relationships, and add them to this graph.\n",
    "        '''\n",
    "        self.nodes = {}\n",
    "        if adjacency_matrix.any() or adjacency_matrix:\n",
    "            # We were provided an adjacency matrix\n",
    "            self._create_member_nodes_from_adjacency_matrix(adjacency_matrix)\n",
    "            \n",
    "    def __str__(self):\n",
    "        return '\\n'.join([str(n) for n in self.nodes.values()])\n",
    "    \n",
    "    def __repr__(self):\n",
    "        return self.__str__()\n",
    "    \n",
    "    def _create_member_nodes_from_adjacency_matrix(self, adjacency_matrix):\n",
    "        # A preceeding underscore indicetes a method that is only called within the class. \n",
    "        # Create nodes and weights from an adjacency matrix (list of lists) and assign them to this graph\n",
    "        letters = list(string.ascii_lowercase)  # Get a list of letters to assign to the nodes we create\n",
    "        needed_letters = len(adjacency_matrix)\n",
    "        if needed_letters > len(letters):\n",
    "            # Give the user an error that the input matrix is too large to have \n",
    "            raise ValueError(\"The matrix is too large to create from 26 letters. Please manually assign names to nodes and then add them to the graph.\")\n",
    "        \n",
    "        for i, row in enumerate(adjacency_matrix):  # get an index of the row and the contentx of the row\n",
    "            letter_name = letters[i]\n",
    "            node = Node(letter_name)\n",
    "            for j, column_value in enumerate(row):\n",
    "                if column_value != 0:  # There is an adjacent node here\n",
    "                    adjacent_letter_name = letters[j]\n",
    "                    node.adjacent[adjacent_letter_name] = column_value\n",
    "            self.nodes[letter_name] = node\n",
    "            \n",
    "    def get_distance_of_path(self, path):\n",
    "        # Given a list of node names within the graph, find its distance using the node adjacency measures\n",
    "        distance = 0\n",
    "        for i, node_name in enumerate(path[:-1]):\n",
    "            # Gets the index and node name for each in the path except for the last one\n",
    "            this_node = self.nodes[node_name]\n",
    "            next_node = self.nodes[path[i+1]]\n",
    "            distance += this_node.adjacent[next_node.name]  # Get the distance from this_node to next node\n",
    "        \n",
    "        return distance\n",
    "    \n",
    "    def find_all_paths_between(self, a, b, path=None):\n",
    "        if not path:\n",
    "            # No path list provided, create one\n",
    "            path = []\n",
    "\n",
    "        path = path + [a] # Add a to the path\n",
    "\n",
    "        if a == b:  # This is a path to itself, at the end of a path\n",
    "            return [path]\n",
    "        if a not in self.nodes:  # a could not be found in the graph\n",
    "            return []\n",
    "        paths = []\n",
    "        for node in self.nodes[a].adjacent:  # look to adjacent nodes of a\n",
    "            if node not in path:\n",
    "                newpaths = self.find_all_paths_between(node, b, path)  # Recursivly go down another level\n",
    "                for newpath in newpaths:\n",
    "                    paths.append(newpath)\n",
    "        return paths\n",
    "    \n",
    "    def shortest_path(self, a, b):\n",
    "        # Get the distance of each weighted path and return the shortest\n",
    "        all_paths = self.find_all_paths_between(a, b)\n",
    "        \n",
    "        if not all_paths:\n",
    "            return []\n",
    "        \n",
    "        # The shortest path will be the first path in the list\n",
    "        shortest_path = None\n",
    "        shortest_distance = None\n",
    "        \n",
    "        for path in all_paths:\n",
    "            p_distance = self.get_distance_of_path(path)\n",
    "            if not shortest_distance or p_distance < shortest_distance:\n",
    "                # This path is shorter\n",
    "                shortest_path = path\n",
    "                shortest_distance = p_distance\n",
    "                \n",
    "        return shortest_path\n",
    "    \n",
    "    def is_tree(self):\n",
    "        # returns True if the graph is a tree, otherwise False\n",
    "        \n",
    "        node_names = list(self.nodes.keys())\n",
    "        first = node_names[0]  # Make sure the first node has a path to all other nodes\n",
    "        second = node_names[1]  # Used to determine if acyclic\n",
    "        \n",
    "        for node in node_names:\n",
    "            if node == first:\n",
    "                continue  # Don't compare it against itself\n",
    "            if not self.find_all_paths_between(first, node):\n",
    "                return False  # No path was found between first and node, this must not be a tree\n",
    "            \n",
    "        # Check if cyclic. Trees must be acyclic.\n",
    "        paths_back = self.find_all_paths_between(first, second)\n",
    "        adjacent = [first, second] in paths_back\n",
    "        for p in paths_back:\n",
    "            if set(p) == set(node_names) and adjacent:\n",
    "                # This path contains each node and returns to itself. It is cyclic\n",
    "                return False\n",
    "        \n",
    "        return True\n"
   ]
  },
  {
   "attachments": {
    "Q3.PNG": {
     "image/png": "[encoded data removed]"
    }
   },
   "cell_type": "markdown",
   "metadata": {},
   "source": [
    "![Q3.PNG](attachment:Q3.PNG)"
   ]
  },
  {
   "cell_type": "code",
   "execution_count": 3,
   "metadata": {},
   "outputs": [],
   "source": [
    "df = pd.read_excel('D://Finance python books//Covid 19 Mark meldrum and damodran//Math for data scientist//Module5-Graph theory//Q3_data_Set.xlsx')"
   ]
  },
  {
   "cell_type": "code",
   "execution_count": 4,
   "metadata": {},
   "outputs": [
    {
     "data": {
      "text/html": [
       "<div>\n",
       "<style scoped>\n",
       "    .dataframe tbody tr th:only-of-type {\n",
       "        vertical-align: middle;\n",
       "    }\n",
       "\n",
       "    .dataframe tbody tr th {\n",
       "        vertical-align: top;\n",
       "    }\n",
       "\n",
       "    .dataframe thead th {\n",
       "        text-align: right;\n",
       "    }\n",
       "</style>\n",
       "<table border=\"1\" class=\"dataframe\">\n",
       "  <thead>\n",
       "    <tr style=\"text-align: right;\">\n",
       "      <th></th>\n",
       "      <th>A</th>\n",
       "      <th>B</th>\n",
       "      <th>C</th>\n",
       "      <th>D</th>\n",
       "      <th>E</th>\n",
       "      <th>F</th>\n",
       "      <th>G</th>\n",
       "      <th>H</th>\n",
       "      <th>I</th>\n",
       "      <th>J</th>\n",
       "      <th>K</th>\n",
       "      <th>L</th>\n",
       "    </tr>\n",
       "  </thead>\n",
       "  <tbody>\n",
       "    <tr>\n",
       "      <th>0</th>\n",
       "      <td>0</td>\n",
       "      <td>25</td>\n",
       "      <td>0</td>\n",
       "      <td>5</td>\n",
       "      <td>0</td>\n",
       "      <td>0</td>\n",
       "      <td>0</td>\n",
       "      <td>0</td>\n",
       "      <td>0</td>\n",
       "      <td>0</td>\n",
       "      <td>0</td>\n",
       "      <td>0</td>\n",
       "    </tr>\n",
       "    <tr>\n",
       "      <th>1</th>\n",
       "      <td>25</td>\n",
       "      <td>0</td>\n",
       "      <td>13</td>\n",
       "      <td>0</td>\n",
       "      <td>4</td>\n",
       "      <td>0</td>\n",
       "      <td>0</td>\n",
       "      <td>0</td>\n",
       "      <td>0</td>\n",
       "      <td>0</td>\n",
       "      <td>0</td>\n",
       "      <td>0</td>\n",
       "    </tr>\n",
       "    <tr>\n",
       "      <th>2</th>\n",
       "      <td>0</td>\n",
       "      <td>13</td>\n",
       "      <td>0</td>\n",
       "      <td>0</td>\n",
       "      <td>0</td>\n",
       "      <td>12</td>\n",
       "      <td>0</td>\n",
       "      <td>0</td>\n",
       "      <td>0</td>\n",
       "      <td>0</td>\n",
       "      <td>0</td>\n",
       "      <td>0</td>\n",
       "    </tr>\n",
       "    <tr>\n",
       "      <th>3</th>\n",
       "      <td>5</td>\n",
       "      <td>0</td>\n",
       "      <td>0</td>\n",
       "      <td>0</td>\n",
       "      <td>26</td>\n",
       "      <td>0</td>\n",
       "      <td>11</td>\n",
       "      <td>0</td>\n",
       "      <td>0</td>\n",
       "      <td>0</td>\n",
       "      <td>0</td>\n",
       "      <td>0</td>\n",
       "    </tr>\n",
       "    <tr>\n",
       "      <th>4</th>\n",
       "      <td>0</td>\n",
       "      <td>4</td>\n",
       "      <td>0</td>\n",
       "      <td>26</td>\n",
       "      <td>0</td>\n",
       "      <td>0</td>\n",
       "      <td>0</td>\n",
       "      <td>16</td>\n",
       "      <td>0</td>\n",
       "      <td>0</td>\n",
       "      <td>0</td>\n",
       "      <td>0</td>\n",
       "    </tr>\n",
       "  </tbody>\n",
       "</table>\n",
       "</div>"
      ],
      "text/plain": [
       "    A   B   C   D   E   F   G   H  I  J  K  L\n",
       "0   0  25   0   5   0   0   0   0  0  0  0  0\n",
       "1  25   0  13   0   4   0   0   0  0  0  0  0\n",
       "2   0  13   0   0   0  12   0   0  0  0  0  0\n",
       "3   5   0   0   0  26   0  11   0  0  0  0  0\n",
       "4   0   4   0  26   0   0   0  16  0  0  0  0"
      ]
     },
     "execution_count": 4,
     "metadata": {},
     "output_type": "execute_result"
    }
   ],
   "source": [
    "df.head()"
   ]
  },
  {
   "cell_type": "code",
   "execution_count": 5,
   "metadata": {},
   "outputs": [
    {
     "data": {
      "text/plain": [
       "array([[ 0, 25,  0,  5,  0,  0,  0,  0,  0,  0,  0,  0],\n",
       "       [25,  0, 13,  0,  4,  0,  0,  0,  0,  0,  0,  0],\n",
       "       [ 0, 13,  0,  0,  0, 12,  0,  0,  0,  0,  0,  0],\n",
       "       [ 5,  0,  0,  0, 26,  0, 11,  0,  0,  0,  0,  0],\n",
       "       [ 0,  4,  0, 26,  0,  0,  0, 16,  0,  0,  0,  0],\n",
       "       [ 0,  0, 12,  0, 10,  0,  0,  0, 17,  0,  0,  0],\n",
       "       [ 0,  0,  0, 11,  0,  0,  0, 27,  0, 19,  0,  0],\n",
       "       [ 0,  0,  0,  0, 26,  0, 27,  0,  0,  0, 24,  0],\n",
       "       [ 0,  0,  0,  0,  0, 17,  0,  3,  0,  0,  0,  9],\n",
       "       [ 0,  0,  0,  0,  0,  0, 19,  0,  0,  0,  1,  0],\n",
       "       [ 0,  0,  0,  0,  0,  0,  0, 24,  0,  1,  0, 14],\n",
       "       [ 0,  0,  0,  0,  0,  0,  0,  0,  9,  0, 14,  0]], dtype=int64)"
      ]
     },
     "execution_count": 5,
     "metadata": {},
     "output_type": "execute_result"
    }
   ],
   "source": [
    "df.to_numpy()"
   ]
  },
  {
   "cell_type": "code",
   "execution_count": 6,
   "metadata": {},
   "outputs": [],
   "source": [
    "matrix =df.values"
   ]
  },
  {
   "cell_type": "code",
   "execution_count": 7,
   "metadata": {},
   "outputs": [
    {
     "data": {
      "text/plain": [
       "array([[ 0, 25,  0,  5,  0,  0,  0,  0,  0,  0,  0,  0],\n",
       "       [25,  0, 13,  0,  4,  0,  0,  0,  0,  0,  0,  0],\n",
       "       [ 0, 13,  0,  0,  0, 12,  0,  0,  0,  0,  0,  0],\n",
       "       [ 5,  0,  0,  0, 26,  0, 11,  0,  0,  0,  0,  0],\n",
       "       [ 0,  4,  0, 26,  0,  0,  0, 16,  0,  0,  0,  0],\n",
       "       [ 0,  0, 12,  0, 10,  0,  0,  0, 17,  0,  0,  0],\n",
       "       [ 0,  0,  0, 11,  0,  0,  0, 27,  0, 19,  0,  0],\n",
       "       [ 0,  0,  0,  0, 26,  0, 27,  0,  0,  0, 24,  0],\n",
       "       [ 0,  0,  0,  0,  0, 17,  0,  3,  0,  0,  0,  9],\n",
       "       [ 0,  0,  0,  0,  0,  0, 19,  0,  0,  0,  1,  0],\n",
       "       [ 0,  0,  0,  0,  0,  0,  0, 24,  0,  1,  0, 14],\n",
       "       [ 0,  0,  0,  0,  0,  0,  0,  0,  9,  0, 14,  0]], dtype=int64)"
      ]
     },
     "execution_count": 7,
     "metadata": {},
     "output_type": "execute_result"
    }
   ],
   "source": [
    "matrix"
   ]
  },
  {
   "cell_type": "code",
   "execution_count": 8,
   "metadata": {},
   "outputs": [
    {
     "data": {
      "text/plain": [
       "['a', 'd', 'g', 'j', 'k', 'l']"
      ]
     },
     "execution_count": 8,
     "metadata": {},
     "output_type": "execute_result"
    }
   ],
   "source": [
    "g = Graph(matrix)\n",
    "g.shortest_path('a', 'l')"
   ]
  },
  {
   "cell_type": "markdown",
   "metadata": {},
   "source": [
    "<div class=\"alert alert-block alert-info\">Q4<b></b> \n",
    "    \n",
    "</div>"
   ]
  },
  {
   "attachments": {
    "Q4.PNG": {
     "image/png": "[encoded data removed]"
    }
   },
   "cell_type": "markdown",
   "metadata": {},
   "source": [
    "![Q4.PNG](attachment:Q4.PNG)"
   ]
  },
  {
   "cell_type": "code",
   "execution_count": 9,
   "metadata": {},
   "outputs": [],
   "source": [
    "df = pd.read_excel('D://Finance python books//Covid 19 Mark meldrum and damodran//Math for data scientist//Module5-Graph theory//Q4_data_Set.xlsx')"
   ]
  },
  {
   "cell_type": "code",
   "execution_count": null,
   "metadata": {},
   "outputs": [],
   "source": []
  },
  {
   "cell_type": "code",
   "execution_count": 10,
   "metadata": {},
   "outputs": [
    {
     "data": {
      "text/plain": [
       "array([[ 0,  0,  4,  7, 20],\n",
       "       [ 0,  0, 26,  3, 21],\n",
       "       [ 4, 26,  0, 28, 14],\n",
       "       [ 7,  3, 28,  0,  5],\n",
       "       [20, 21, 14,  5,  0]], dtype=int64)"
      ]
     },
     "execution_count": 10,
     "metadata": {},
     "output_type": "execute_result"
    }
   ],
   "source": [
    "df.to_numpy()"
   ]
  },
  {
   "cell_type": "code",
   "execution_count": 11,
   "metadata": {},
   "outputs": [
    {
     "name": "stdout",
     "output_type": "stream",
     "text": [
      "['a', 'd', 'b']\n"
     ]
    },
    {
     "data": {
      "text/plain": [
       "10"
      ]
     },
     "execution_count": 11,
     "metadata": {},
     "output_type": "execute_result"
    }
   ],
   "source": [
    "matrix =df.values\n",
    "g = Graph(matrix)\n",
    "print (g.shortest_path('a', 'b'))\n",
    "g.get_distance_of_path(g.shortest_path('a', 'b') )\n"
   ]
  },
  {
   "cell_type": "markdown",
   "metadata": {},
   "source": [
    "<div class=\"alert alert-block alert-info\">Q15<b></b> \n",
    "    \n",
    "</div>"
   ]
  },
  {
   "attachments": {
    "Q15.PNG": {
     "image/png": "[encoded data removed]"
    }
   },
   "cell_type": "markdown",
   "metadata": {},
   "source": [
    "![Q15.PNG](attachment:Q15.PNG)"
   ]
  },
  {
   "cell_type": "code",
   "execution_count": 12,
   "metadata": {},
   "outputs": [
    {
     "data": {
      "text/plain": [
       "{(5, 'D', 'E'), (6, 'B', 'D'), (7, 'C', 'F'), (11, 'A', 'B'), (14, 'D', 'F')}"
      ]
     },
     "execution_count": 12,
     "metadata": {},
     "output_type": "execute_result"
    }
   ],
   "source": [
    "parent = dict()\n",
    "rank = dict()\n",
    "\n",
    "def make_set(vertice):\n",
    "    parent[vertice] = vertice\n",
    "    rank[vertice] = 0\n",
    "\n",
    "def find(vertice):\n",
    "    if parent[vertice] != vertice:\n",
    "        parent[vertice] = find(parent[vertice])\n",
    "    return parent[vertice]\n",
    "\n",
    "def union(vertice1, vertice2):\n",
    "    root1 = find(vertice1)\n",
    "    root2 = find(vertice2)\n",
    "    if root1 != root2:\n",
    "        if rank[root1] > rank[root2]:\n",
    "            parent[root2] = root1\n",
    "        else:\n",
    "            parent[root1] = root2\n",
    "            if rank[root1] == rank[root2]: rank[root2] += 1\n",
    "\n",
    "def kruskal(graph):\n",
    "    for vertice in graph['vertices']:\n",
    "        make_set(vertice)\n",
    "\n",
    "    minimum_spanning_tree = set()\n",
    "    edges = list(graph['edges'])\n",
    "    edges.sort()\n",
    "    for edge in edges:\n",
    "        weight, vertice1, vertice2 = edge\n",
    "        if find(vertice1) != find(vertice2):\n",
    "            union(vertice1, vertice2)\n",
    "            minimum_spanning_tree.add(edge)\n",
    "    return minimum_spanning_tree\n",
    "\n",
    "graph = {\n",
    "        'vertices': ['A', 'B', 'C', 'D', 'E', 'F'],\n",
    "        'edges': set([\n",
    "            (11, 'A', 'B'),\n",
    "            (27, 'A', 'C'),\n",
    "            (36, 'A', 'D'),\n",
    "            (42, 'A', 'E'),\n",
    "            (31, 'A', 'F'),\n",
    "            (35, 'B', 'C'),\n",
    "            (6, 'B', 'D'),\n",
    "            (44, 'B', 'E'),\n",
    "            (33, 'B', 'F'),\n",
    "            (23, 'C', 'D'),\n",
    "            (40, 'C', 'E'),\n",
    "            (7, 'C', 'F'),\n",
    "            (5, 'D', 'E'),\n",
    "            (14, 'D', 'F'),\n",
    "            (25, 'E', 'F')\n",
    "            ])\n",
    "        }\n",
    "kruskal(graph)"
   ]
  },
  {
   "cell_type": "markdown",
   "metadata": {},
   "source": [
    "<div class=\"alert alert-block alert-info\">Q14<b></b> \n",
    "    \n",
    "</div>"
   ]
  },
  {
   "attachments": {
    "Q14.PNG": {
     "image/png": "[encoded data removed]"
    }
   },
   "cell_type": "markdown",
   "metadata": {},
   "source": [
    "![Q14.PNG](attachment:Q14.PNG)"
   ]
  },
  {
   "cell_type": "code",
   "execution_count": 13,
   "metadata": {},
   "outputs": [
    {
     "data": {
      "text/plain": [
       "{(1, 'B', 'C'), (8, 'C', 'E'), (20, 'A', 'E'), (23, 'A', 'D')}"
      ]
     },
     "execution_count": 13,
     "metadata": {},
     "output_type": "execute_result"
    }
   ],
   "source": [
    "graph = {\n",
    "        'vertices': ['A', 'B', 'C', 'D', 'E'],\n",
    "        'edges': set([\n",
    "            (21, 'A', 'B'),\n",
    "            (43, 'A', 'C'),\n",
    "            (23, 'A', 'D'),\n",
    "            (20, 'A', 'E'),\n",
    "            (1, 'B', 'C'),\n",
    "            (41, 'B', 'D'),\n",
    "            (35, 'B', 'E'),\n",
    "            (32, 'C', 'D'),\n",
    "            (8, 'C', 'E'),\n",
    "            (30, 'D', 'E')\n",
    "          \n",
    "            ])\n",
    "        }\n",
    "kruskal(graph)"
   ]
  },
  {
   "cell_type": "code",
   "execution_count": null,
   "metadata": {},
   "outputs": [],
   "source": []
  },
  {
   "cell_type": "code",
   "execution_count": 14,
   "metadata": {},
   "outputs": [
    {
     "name": "stdout",
     "output_type": "stream",
     "text": [
      "80\n"
     ]
    }
   ],
   "source": [
    "# Python3 program to implement traveling salesman \n",
    "# problem using naive approach. \n",
    "from sys import maxsize \n",
    "from itertools import permutations\n",
    "V = 4\n",
    " \n",
    "# implementation of traveling Salesman Problem \n",
    "def travellingSalesmanProblem(graph, s): \n",
    " \n",
    "    # store all vertex apart from source vertex \n",
    "    vertex = [] \n",
    "    for i in range(V): \n",
    "        if i != s: \n",
    "            vertex.append(i) \n",
    " \n",
    "    # store minimum weight Hamiltonian Cycle \n",
    "    min_path = maxsize \n",
    "    next_permutation=permutations(vertex)\n",
    "    for i in next_permutation:\n",
    " \n",
    "        # store current Path weight(cost) \n",
    "        current_pathweight = 0\n",
    " \n",
    "        # compute current path weight \n",
    "        k = s \n",
    "        for j in i: \n",
    "            current_pathweight += graph[k][j] \n",
    "            k = j \n",
    "        current_pathweight += graph[k][s] \n",
    " \n",
    "        # update minimum \n",
    "        min_path = min(min_path, current_pathweight) \n",
    "         \n",
    "    return min_path \n",
    " \n",
    " \n",
    "# Driver Code \n",
    "if __name__ == \"__main__\": \n",
    " \n",
    "    # matrix representation of graph \n",
    "    graph = [[0, 10, 15, 20], [10, 0, 35, 25], \n",
    "            [15, 35, 0, 30], [20, 25, 30, 0]] \n",
    "    s = 0\n",
    "    print(travellingSalesmanProblem(graph, s))\n"
   ]
  },
  {
   "cell_type": "markdown",
   "metadata": {},
   "source": [
    "# Q12"
   ]
  },
  {
   "attachments": {
    "Q12.PNG": {
     "image/png": "[encoded data removed]"
    }
   },
   "cell_type": "markdown",
   "metadata": {},
   "source": [
    "![Q12.PNG](attachment:Q12.PNG)"
   ]
  },
  {
   "cell_type": "code",
   "execution_count": 27,
   "metadata": {},
   "outputs": [],
   "source": [
    "df = pd.read_excel('D://Finance python books//Covid 19 Mark meldrum and damodran//Math for data scientist//Module5-Graph theory//Q12_data_Set.xlsx')"
   ]
  },
  {
   "cell_type": "code",
   "execution_count": 28,
   "metadata": {},
   "outputs": [
    {
     "data": {
      "text/html": [
       "<div>\n",
       "<style scoped>\n",
       "    .dataframe tbody tr th:only-of-type {\n",
       "        vertical-align: middle;\n",
       "    }\n",
       "\n",
       "    .dataframe tbody tr th {\n",
       "        vertical-align: top;\n",
       "    }\n",
       "\n",
       "    .dataframe thead th {\n",
       "        text-align: right;\n",
       "    }\n",
       "</style>\n",
       "<table border=\"1\" class=\"dataframe\">\n",
       "  <thead>\n",
       "    <tr style=\"text-align: right;\">\n",
       "      <th></th>\n",
       "      <th>A</th>\n",
       "      <th>B</th>\n",
       "      <th>C</th>\n",
       "      <th>D</th>\n",
       "      <th>E</th>\n",
       "      <th>F</th>\n",
       "    </tr>\n",
       "  </thead>\n",
       "  <tbody>\n",
       "    <tr>\n",
       "      <th>0</th>\n",
       "      <td>0</td>\n",
       "      <td>999</td>\n",
       "      <td>999</td>\n",
       "      <td>14</td>\n",
       "      <td>10</td>\n",
       "      <td>1</td>\n",
       "    </tr>\n",
       "    <tr>\n",
       "      <th>1</th>\n",
       "      <td>999</td>\n",
       "      <td>0</td>\n",
       "      <td>999</td>\n",
       "      <td>2</td>\n",
       "      <td>4</td>\n",
       "      <td>6</td>\n",
       "    </tr>\n",
       "    <tr>\n",
       "      <th>2</th>\n",
       "      <td>999</td>\n",
       "      <td>999</td>\n",
       "      <td>0</td>\n",
       "      <td>3</td>\n",
       "      <td>15</td>\n",
       "      <td>12</td>\n",
       "    </tr>\n",
       "    <tr>\n",
       "      <th>3</th>\n",
       "      <td>14</td>\n",
       "      <td>2</td>\n",
       "      <td>3</td>\n",
       "      <td>0</td>\n",
       "      <td>999</td>\n",
       "      <td>999</td>\n",
       "    </tr>\n",
       "    <tr>\n",
       "      <th>4</th>\n",
       "      <td>10</td>\n",
       "      <td>4</td>\n",
       "      <td>15</td>\n",
       "      <td>999</td>\n",
       "      <td>0</td>\n",
       "      <td>999</td>\n",
       "    </tr>\n",
       "  </tbody>\n",
       "</table>\n",
       "</div>"
      ],
      "text/plain": [
       "     A    B    C    D    E    F\n",
       "0    0  999  999   14   10    1\n",
       "1  999    0  999    2    4    6\n",
       "2  999  999    0    3   15   12\n",
       "3   14    2    3    0  999  999\n",
       "4   10    4   15  999    0  999"
      ]
     },
     "execution_count": 28,
     "metadata": {},
     "output_type": "execute_result"
    }
   ],
   "source": [
    "df.head()"
   ]
  },
  {
   "cell_type": "code",
   "execution_count": 29,
   "metadata": {},
   "outputs": [],
   "source": [
    "matrix2 =df.values"
   ]
  },
  {
   "cell_type": "code",
   "execution_count": 30,
   "metadata": {},
   "outputs": [
    {
     "data": {
      "text/plain": [
       "array([[  0, 999, 999,  14,  10,   1],\n",
       "       [999,   0, 999,   2,   4,   6],\n",
       "       [999, 999,   0,   3,  15,  12],\n",
       "       [ 14,   2,   3,   0, 999, 999],\n",
       "       [ 10,   4,  15, 999,   0, 999],\n",
       "       [  1,   6,  12, 999, 999,   0]], dtype=int64)"
      ]
     },
     "execution_count": 30,
     "metadata": {},
     "output_type": "execute_result"
    }
   ],
   "source": [
    "matrix2"
   ]
  },
  {
   "cell_type": "code",
   "execution_count": 31,
   "metadata": {},
   "outputs": [],
   "source": [
    "#https://developers.google.com/optimization/routing/tsp\n",
    "#https://developers.google.com/optimization/routing/tsp#circuit_board\n",
    "from __future__ import print_function\n",
    "import math\n",
    "from ortools.constraint_solver import routing_enums_pb2\n",
    "from ortools.constraint_solver import pywrapcp\n",
    "\n",
    "# Where there is no connection between the vertices put the maximum value\n",
    "def create_data_model():\n",
    "    \"\"\"Stores the data for the problem.\"\"\"\n",
    "    data = {}\n",
    "    #data['distance_matrix'] = [\n",
    "     #   [0, 2451, 713, 1018, 1631, 1374, 2408, 213, 2571, 875, 1420, 2145, 1972],\n",
    "      #  [2451, 0, 1745, 1524, 831, 1240, 959, 2596, 403, 1589, 1374, 357, 579],\n",
    "      #  [713, 1745, 0, 355, 920, 803, 1737, 851, 1858, 262, 940, 1453, 1260],\n",
    "       # [1018, 1524, 355, 0, 700, 862, 1395, 1123, 1584, 466, 1056, 1280, 987],\n",
    "        #[1631, 831, 920, 700, 0, 663, 1021, 1769, 949, 796, 879, 586, 371],\n",
    "       # [1374, 1240, 803, 862, 663, 0, 1681, 1551, 1765, 547, 225, 887, 999],\n",
    "       # [2408, 959, 1737, 1395, 1021, 1681, 0, 2493, 678, 1724, 1891, 1114, 701],\n",
    "       # [213, 2596, 851, 1123, 1769, 1551, 2493, 0, 2699, 1038, 1605, 2300, 2099],\n",
    "       # [2571, 403, 1858, 1584, 949, 1765, 678, 2699, 0, 1744, 1645, 653, 600],\n",
    "       # [875, 1589, 262, 466, 796, 547, 1724, 1038, 1744, 0, 679, 1272, 1162],\n",
    "       # [1420, 1374, 940, 1056, 879, 225, 1891, 1605, 1645, 679, 0, 1017, 1200],\n",
    "       # [2145, 357, 1453, 1280, 586, 887, 1114, 2300, 653, 1272, 1017, 0, 504],\n",
    "       # [1972, 579, 1260, 987, 371, 999, 701, 2099, 600, 1162, 1200, 504, 0],\n",
    "    #]  # yapf: disable\n",
    "    data['distance_matrix'] = matrix2\n",
    "    data['num_vehicles'] = 1\n",
    "    data['depot'] = 0\n",
    "    return data\n"
   ]
  },
  {
   "cell_type": "code",
   "execution_count": 32,
   "metadata": {},
   "outputs": [],
   "source": [
    "data = create_data_model()\n",
    "manager = pywrapcp.RoutingIndexManager(len(data['distance_matrix']),\n",
    "                                       data['num_vehicles'], data['depot'])\n",
    "routing = pywrapcp.RoutingModel(manager)"
   ]
  },
  {
   "cell_type": "code",
   "execution_count": 33,
   "metadata": {},
   "outputs": [],
   "source": [
    "def distance_callback(from_index, to_index):\n",
    "    \"\"\"Returns the distance between the two nodes.\"\"\"\n",
    "    # Convert from routing variable Index to distance matrix NodeIndex.\n",
    "    from_node = manager.IndexToNode(from_index)\n",
    "    to_node = manager.IndexToNode(to_index)\n",
    "    return data['distance_matrix'][from_node][to_node]\n",
    "\n",
    "transit_callback_index = routing.RegisterTransitCallback(distance_callback)"
   ]
  },
  {
   "cell_type": "code",
   "execution_count": 34,
   "metadata": {},
   "outputs": [],
   "source": [
    "routing.SetArcCostEvaluatorOfAllVehicles(transit_callback_index)"
   ]
  },
  {
   "cell_type": "code",
   "execution_count": 35,
   "metadata": {},
   "outputs": [],
   "source": [
    "search_parameters = pywrapcp.DefaultRoutingSearchParameters()\n",
    "search_parameters.first_solution_strategy = (\n",
    "    routing_enums_pb2.FirstSolutionStrategy.PATH_CHEAPEST_ARC)"
   ]
  },
  {
   "cell_type": "code",
   "execution_count": 36,
   "metadata": {},
   "outputs": [],
   "source": [
    "def print_solution(manager, routing, solution):\n",
    "    \"\"\"Prints solution on console.\"\"\"\n",
    "    print('Objective: {} miles'.format(solution.ObjectiveValue()))\n",
    "    index = routing.Start(0)\n",
    "    plan_output = 'Route for vehicle 0:\\n'\n",
    "    route_distance = 0\n",
    "    while not routing.IsEnd(index):\n",
    "        plan_output += ' {} ->'.format(manager.IndexToNode(index))\n",
    "        previous_index = index\n",
    "        index = solution.Value(routing.NextVar(index))\n",
    "        route_distance += routing.GetArcCostForVehicle(previous_index, index, 0)\n",
    "    plan_output += ' {}\\n'.format(manager.IndexToNode(index))\n",
    "    print(plan_output)\n",
    "    plan_output += 'Route distance: {}miles\\n'.format(route_distance)"
   ]
  },
  {
   "cell_type": "code",
   "execution_count": 37,
   "metadata": {},
   "outputs": [
    {
     "name": "stdout",
     "output_type": "stream",
     "text": [
      "Objective: 32 miles\n",
      "Route for vehicle 0:\n",
      " 0 -> 5 -> 2 -> 3 -> 1 -> 4 -> 0\n",
      "\n"
     ]
    }
   ],
   "source": [
    "solution = routing.SolveWithParameters(search_parameters)\n",
    "if solution:\n",
    "    print_solution(manager, routing, solution)"
   ]
  },
  {
   "cell_type": "code",
   "execution_count": 38,
   "metadata": {},
   "outputs": [],
   "source": [
    "def get_routes(solution, routing, manager):\n",
    "  \"\"\"Get vehicle routes from a solution and store them in an array.\"\"\"\n",
    "  # Get vehicle routes and store them in a two dimensional array whose\n",
    "  # i,j entry is the jth location visited by vehicle i along its route.\n",
    "  routes = []\n",
    "  for route_nbr in range(routing.vehicles()):\n",
    "    index = routing.Start(route_nbr)\n",
    "    route = [manager.IndexToNode(index)]\n",
    "    while not routing.IsEnd(index):\n",
    "      index = solution.Value(routing.NextVar(index))\n",
    "      route.append(manager.IndexToNode(index))\n",
    "    routes.append(route)\n",
    "  return routes"
   ]
  },
  {
   "cell_type": "code",
   "execution_count": 39,
   "metadata": {},
   "outputs": [
    {
     "name": "stdout",
     "output_type": "stream",
     "text": [
      "Route 0 [0, 5, 2, 3, 1, 4, 0]\n"
     ]
    }
   ],
   "source": [
    "routes = get_routes(solution, routing, manager)\n",
    "# Display the routes.\n",
    "for i, route in enumerate(routes):\n",
    "  print('Route', i, route)"
   ]
  },
  {
   "cell_type": "code",
   "execution_count": null,
   "metadata": {},
   "outputs": [],
   "source": [
    "# Appendix learning to develop the algorithm"
   ]
  },
  {
   "cell_type": "code",
   "execution_count": null,
   "metadata": {},
   "outputs": [],
   "source": []
  },
  {
   "cell_type": "code",
   "execution_count": null,
   "metadata": {},
   "outputs": [],
   "source": []
  },
  {
   "cell_type": "code",
   "execution_count": null,
   "metadata": {},
   "outputs": [],
   "source": []
  },
  {
   "cell_type": "code",
   "execution_count": null,
   "metadata": {},
   "outputs": [],
   "source": []
  },
  {
   "cell_type": "code",
   "execution_count": null,
   "metadata": {},
   "outputs": [],
   "source": []
  },
  {
   "cell_type": "code",
   "execution_count": null,
   "metadata": {},
   "outputs": [],
   "source": []
  },
  {
   "cell_type": "code",
   "execution_count": null,
   "metadata": {},
   "outputs": [],
   "source": [
    "import sys\n",
    "def main():\n",
    "    print(sys.maxsize)\n"
   ]
  },
  {
   "cell_type": "code",
   "execution_count": null,
   "metadata": {},
   "outputs": [],
   "source": []
  },
  {
   "cell_type": "code",
   "execution_count": null,
   "metadata": {},
   "outputs": [],
   "source": []
  },
  {
   "cell_type": "code",
   "execution_count": null,
   "metadata": {},
   "outputs": [],
   "source": []
  },
  {
   "cell_type": "code",
   "execution_count": null,
   "metadata": {},
   "outputs": [],
   "source": []
  },
  {
   "cell_type": "code",
   "execution_count": null,
   "metadata": {},
   "outputs": [],
   "source": [
    "if __name__ == '__main__':\n",
    "    main()"
   ]
  },
  {
   "cell_type": "code",
   "execution_count": null,
   "metadata": {},
   "outputs": [],
   "source": [
    "class Edge:\n",
    "    def __init__ (self,vertex1, vertex2, weight):\n",
    "        self.vertex1 = vertex1\n",
    "        self.vertex2 = vertex2\n",
    "        self.weight = weight\n",
    "        \n",
    "    def getEdgeDetails(self):\n",
    "        return \"Edge: {}<---{}--->{}\".format(self.vertex1,self.weight,self.vertex2)\n",
    "    \n",
    "class Graph2:\n",
    "    def __init__(self):\n",
    "        self.vertices = dict()\n",
    "    # Undirected graph, we will add both users to each others adjacency list\n",
    "    # For Directed graph set isDirected to True\n",
    "    def addEdge(self,edge,isDirected = False):\n",
    "        if edge.vertex1 not in self.vertices:\n",
    "            self.vertices[edge.vertex1]=[]\n",
    "        if not isDirected:\n",
    "            if edge.vertex2 not in self.vertices:\n",
    "                self.vertices[edge.vertex2]=[]\n",
    "        # Maintain Adjacency list\n",
    "        # Maintain the data in List as Tuple, where we have adjacent vertex and weight\n",
    "        self.vertices[edge.vertex1].append((edge.vertex2,edge.weight))\n",
    "        if not isDirected:\n",
    "            self.vertices[edge.vertex2].append((edge.vertex1,edge.weight))\n",
    "        \n",
    "    def printGraph(self):\n",
    "        print(\"Number of Vertices in Graph:\", len(self.vertices))\n",
    "        keys = self.vertices.keys()\n",
    "        for key in keys:\n",
    "            #print(\">> Adjacent List for Vertex:\", key)\n",
    "            print(key,\":\",end=\" \")\n",
    "            print(self.vertices[key],end=\" \")\n",
    "            print(\"___________________________\")\n",
    "    \n",
    "    # Implement this function to detect any cycle in the graph\n",
    "    def isCyclic(self):\n",
    "        pass\n",
    "    \n",
    "    def Sollins(self):\n",
    "    pass\n",
    "    \n",
    "        \n",
    "    "
   ]
  },
  {
   "cell_type": "code",
   "execution_count": null,
   "metadata": {},
   "outputs": [],
   "source": [
    "def main():\n",
    "    edge0 = Edge(0,1,4)\n",
    "    edge1 = Edge(0,2,4)\n",
    "    edge2 = Edge(0,3,6)\n",
    "    edge3 = Edge(0,4,6)\n",
    "    edge4 = Edge(1,2,2)\n",
    "    edge5 = Edge(2,3,8)\n",
    "    edge6 = Edge(3,4,9)\n",
    "\n",
    "if __name__ == '__main__':\n",
    "    main()\n",
    "    "
   ]
  },
  {
   "cell_type": "code",
   "execution_count": null,
   "metadata": {},
   "outputs": [],
   "source": [
    "\n",
    "edges=[]\n",
    "edges = [edge0,edge1,edge2,edge3,edge4,edge5,edge6]"
   ]
  },
  {
   "cell_type": "code",
   "execution_count": null,
   "metadata": {},
   "outputs": [],
   "source": [
    "edges"
   ]
  },
  {
   "cell_type": "code",
   "execution_count": null,
   "metadata": {},
   "outputs": [],
   "source": []
  },
  {
   "cell_type": "code",
   "execution_count": null,
   "metadata": {},
   "outputs": [],
   "source": [
    "for edge in edges:\n",
    "    print(edge.getEdgeDetails())"
   ]
  },
  {
   "cell_type": "code",
   "execution_count": null,
   "metadata": {},
   "outputs": [],
   "source": [
    "graph = Graph2()\n",
    "graph.printGraph()"
   ]
  },
  {
   "cell_type": "code",
   "execution_count": null,
   "metadata": {},
   "outputs": [],
   "source": [
    "for edge in edges:\n",
    "    graph.addEdge(edge)"
   ]
  },
  {
   "cell_type": "code",
   "execution_count": null,
   "metadata": {},
   "outputs": [],
   "source": [
    "graph.printGraph()"
   ]
  },
  {
   "cell_type": "code",
   "execution_count": null,
   "metadata": {},
   "outputs": [],
   "source": []
  },
  {
   "cell_type": "code",
   "execution_count": null,
   "metadata": {},
   "outputs": [],
   "source": []
  },
  {
   "cell_type": "code",
   "execution_count": null,
   "metadata": {},
   "outputs": [],
   "source": [
    "#implementation of google map"
   ]
  },
  {
   "cell_type": "code",
   "execution_count": null,
   "metadata": {},
   "outputs": [],
   "source": [
    "# Session 33A\n",
    "# Location or Place in Map\n",
    "# For our Graph Data structure, Location is kind of Node/Vertex\n",
    "class Location:\n",
    "    # A location can have several attributes as in whatever needed\n",
    "    def __init__(self, latitude, longitude, adrsLine):\n",
    "        self.latitude = latitude\n",
    "        self.longitude = longitude\n",
    "        self.adrsLine = adrsLine\n",
    "    \n",
    "    def getLocationDetails(self):\n",
    "        return \"{}[{},{}]\".format( self.adrsLine,self.latitude, self.longitude)\n",
    "\n",
    "# For our Graph Data structure, Path is kind of Edge(Location1, Location2, weight)\n",
    "\n",
    "class Path:\n",
    "    def __init__(self, location1, location2, distance):\n",
    "        self.location1 = location1\n",
    "        self.location2 = location2\n",
    "        self.distance = distance\n",
    "        self.trafic = 1 # 1 as free flow, 2 as Moderate, 3 as Jammed\n",
    "    def getPathDetails(self):\n",
    "        return \"{}<--------{}----------{}\".format(self.location1.adrsLine,self.distance,self.location2.adrsLine)\n",
    "\n",
    "# Directed/Undirected Weighted Graph\n",
    "class GoogleMap:\n",
    "    def __init__(self):\n",
    "        self.locations = dict()\n",
    "    # Undirected graph, we will add both users to each others adjacency list\n",
    "    # For Directed graph set isDirected to True\n",
    "    def addPath(self,path,isDirected = False):\n",
    "        if path.location1 not in self.locations:\n",
    "            self.locations[path.location1]=[]\n",
    "      \n",
    "        if path.location2 not in self.locations:\n",
    "            self.locations[path.location2]=[]\n",
    "        # Maintain Adjacency list\n",
    "        # Maintain the data in List as Tuple, where we have adjacent vertex and weight\n",
    "        self.locations[path.location1].append((path.location2))\n",
    "        if not isDirected:\n",
    "            self.locations[path.location2].append((path.location1))\n",
    "        \n",
    "    def printGoogleMap(self):\n",
    "        print(\"Number of locations in Graph:\", len(self.locations))\n",
    "        keys = self.locations.keys()\n",
    "        for key in keys:\n",
    "            #\n",
    "            print(key.getLocationDetails())\n",
    "            print(\"Adjacent List for Locations:\")\n",
    "            for location in self.locations[key]:\n",
    "                print(\"{}\".format(location.getLocationDetails()))\n",
    "            #print(self.locations[key],end=\" \")\n",
    "            #\n",
    "            print(\"___________________________\")\n",
    "            print()\n",
    "    \n",
    "   \n",
    "\n",
    "\n",
    "    \n"
   ]
  },
  {
   "cell_type": "code",
   "execution_count": null,
   "metadata": {},
   "outputs": [],
   "source": []
  },
  {
   "cell_type": "code",
   "execution_count": null,
   "metadata": {},
   "outputs": [],
   "source": [
    "\n",
    "location1 = Location(75.234,72.123,\"1. Redwood Shores\")\n",
    "location2 = Location(85.234,82.123,\"2. Country Homes\")\n",
    "location3 = Location(121.234,112.123,\"3. Pristine Magnum\")\n",
    "location4 = Location(79.234,81.123,\"4. Bay Side\")\n",
    "location5 = Location(75.234,77.123,\"5. Castle woods\")\n",
    "path1 = Path (location1,location2, 10)\n",
    "path2 = Path (location1,location3, 12)\n",
    "path3 = Path (location1,location4, 12)\n",
    "path4 = Path (location2,location3, 16)\n",
    "path5 = Path (location3,location4, 3)\n",
    "path6 = Path (location4,location5, 19)\n",
    "paths = [path1,path2,path3,path4,path5, path6]\n",
    "\n",
    " \n",
    "    "
   ]
  },
  {
   "cell_type": "code",
   "execution_count": null,
   "metadata": {},
   "outputs": [],
   "source": [
    "\n",
    "\n",
    "for path in paths:\n",
    "    print(path.getPathDetails())\n",
    "\n",
    "graph = GoogleMap()\n",
    "graph.printGoogleMap()\n",
    "\n",
    "\n",
    "   "
   ]
  },
  {
   "cell_type": "code",
   "execution_count": null,
   "metadata": {},
   "outputs": [],
   "source": [
    "paths"
   ]
  },
  {
   "cell_type": "code",
   "execution_count": null,
   "metadata": {},
   "outputs": [],
   "source": [
    "for path in paths:\n",
    "    # We pass True for Directed Graph\n",
    "    graph.addPath(path,True)\n",
    "print()\n",
    "print(\">> Printing Google Map with adjacent Locations\")    \n",
    "graph.printGoogleMap()"
   ]
  },
  {
   "cell_type": "code",
   "execution_count": null,
   "metadata": {},
   "outputs": [],
   "source": []
  }
 ],
 "metadata": {
  "kernelspec": {
   "display_name": "Python 3",
   "language": "python",
   "name": "python3"
  },
  "language_info": {
   "codemirror_mode": {
    "name": "ipython",
    "version": 3
   },
   "file_extension": ".py",
   "mimetype": "text/x-python",
   "name": "python",
   "nbconvert_exporter": "python",
   "pygments_lexer": "ipython3",
   "version": "3.7.1"
  }
 },
 "nbformat": 4,
 "nbformat_minor": 2
}
