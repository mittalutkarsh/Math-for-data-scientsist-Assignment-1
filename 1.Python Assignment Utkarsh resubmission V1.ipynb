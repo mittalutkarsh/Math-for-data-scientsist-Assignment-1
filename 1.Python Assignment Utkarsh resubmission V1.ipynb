{
 "cells": [
  {
   "cell_type": "markdown",
   "metadata": {
    "colab_type": "text",
    "id": "l0ZzOlyxB-kf"
   },
   "source": [
    "<h1>Python: without numpy or sklearn </h1>"
   ]
  },
  {
   "cell_type": "markdown",
   "metadata": {
    "colab_type": "text",
    "id": "C0xO8JV9B-ki"
   },
   "source": [
    "<h3> Q1: Given two matrices please print the product of those two matrices </h3>\n",
    "<pre>\n",
    "\n",
    "Ex 1: A   = [[1 3 4]\n",
    "             [2 5 7]\n",
    "             [5 9 6]]\n",
    "      B   = [[1 0 0]\n",
    "             [0 1 0]\n",
    "             [0 0 1]]\n",
    "      A*B = [[1 3 4]\n",
    "             [2 5 7]\n",
    "             [5 9 6]]\n",
    "\n",
    "     \n",
    "Ex 2: A   = [[1 2]\n",
    "             [3 4]]\n",
    "      B   = [[1 2 3 4 5]\n",
    "             [5 6 7 8 9]]\n",
    "      A*B = [[11 14 17 20 23]\n",
    "             [23 30 36 42 51]]\n",
    "             \n",
    "Ex 3: A   = [[1 2]\n",
    "             [3 4]]\n",
    "      B   = [[1 4]\n",
    "             [5 6]\n",
    "             [7 8]\n",
    "             [9 6]]\n",
    "      A*B =Not possible\n",
    "</pre>"
   ]
  },
  {
   "cell_type": "code",
   "execution_count": 11,
   "metadata": {},
   "outputs": [],
   "source": [
    "class Matrix_multiplication:\n",
    "    \n",
    "    def __init__(self, A,B):\n",
    "        self.A = A\n",
    "        self.B = B\n",
    "        self.row_matrix_A = len(A)\n",
    "        self.Column_matrix_A = len(A[0])\n",
    "        self.row_matrix_B = len(B)\n",
    "        self.Column_matrix_B = len(B[0])\n",
    "        \n",
    "        self.Matrix_zero()\n",
    "        \n",
    "    def Matrix_zero(self):\n",
    "        Matrix = [] \n",
    "        for i in range(0,self.row_matrix_A):\n",
    "            Matrix.append([])\n",
    "            for j in range (0,self.Column_matrix_B):\n",
    "                Matrix[-1].append(0)\n",
    "        return Matrix        \n",
    "        \n",
    "    def Matrix_mult(self):\n",
    "        Result_matrix = self.Matrix_zero()\n",
    "        if self.Column_matrix_A != self.row_matrix_B:\n",
    "            return print (\"Matrix product is not possible\")\n",
    "        else:\n",
    "            print (\"Matrix product is possible\")\n",
    "\n",
    "            for i in range (self.row_matrix_A):\n",
    "                \n",
    "                for j in range(self.Column_matrix_B):\n",
    "                    \n",
    "                    for k in range (self.Column_matrix_A):\n",
    "                        Result_matrix[i][j]+= self.A[i][k] * self.B[k][j]\n",
    "        return print(Result_matrix)            \n",
    "                  \n",
    "        \n",
    "\n",
    "        \n"
   ]
  },
  {
   "cell_type": "code",
   "execution_count": 12,
   "metadata": {},
   "outputs": [
    {
     "name": "stdout",
     "output_type": "stream",
     "text": [
      "Matrix product is possible\n",
      "[[114, 160, 60, 27], [74, 97, 73, 14], [119, 157, 112, 23]]\n"
     ]
    }
   ],
   "source": [
    "A = [[12,7,3],\n",
    "    [4 ,5,6],\n",
    "    [7 ,8,9]]\n",
    "# 3x4 matrix\n",
    "B = [[5,8,1,2],\n",
    "    [6,7,3,0],\n",
    "    [4,5,9,1]]\n",
    "\n",
    "C = Matrix_multiplication(A,B)\n",
    "\n",
    "C.Matrix_mult()\n",
    "\n"
   ]
  },
  {
   "cell_type": "markdown",
   "metadata": {
    "colab_type": "text",
    "id": "at4VwLggB-kn"
   },
   "source": [
    "<h3> Q2: Select a number randomly with probability proportional to its magnitude from the given array of n elements</h3>\n",
    "\n",
    "consider an experiment, selecting an element from the list A randomly with probability proportional to its magnitude.\n",
    "assume we are doing the same experiment for 100 times with replacement, in each experiment you will print a number that is selected randomly from A.\n",
    "\n",
    "<pre>\n",
    "Ex 1: A = [0 5 27 6 13 28 100 45 10 79]\n",
    "let f(x) denote the number of times x getting selected in 100 experiments.\n",
    "f(100) > f(79) > f(45) > f(28) > f(27) > f(13) > f(10) > f(6) > f(5) > f(0)\n",
    "</pre>"
   ]
  },
  {
   "cell_type": "code",
   "execution_count": 13,
   "metadata": {},
   "outputs": [],
   "source": []
  },
  {
   "cell_type": "markdown",
   "metadata": {},
   "source": [
    "<div class=\"alert alert-block alert-success\"><b>Reference:</b> \n",
    "1. https://www.quora.com/How-can-we-pick-an-element-from-an-array-with-probability-proportional-to-the-element\n",
    "2. https://www.quora.com/How-can-we-pick-an-element-from-an-array-with-probability-proportional-to-the-element/answer/Pradeep-George-Mathias\n",
    "\n",
    "\n",
    "\n",
    "\n",
    "    \n",
    "</div>"
   ]
  },
  {
   "cell_type": "code",
   "execution_count": 386,
   "metadata": {},
   "outputs": [],
   "source": [
    "from random import uniform\n",
    "class Propor_Prob:\n",
    "    \n",
    "    def __init__(self, A):\n",
    "        self.A = A\n",
    "        self.sum_list()\n",
    "        self.uniform_random()\n",
    "        self.cum_sum_prob()\n",
    "        self.pick_a_number_from_list()\n",
    "\n",
    "    \n",
    "    def sum_list(self):\n",
    "        total = 0\n",
    "        for i in self.A:\n",
    "            total += i\n",
    "        return total\n",
    "    \n",
    "    def uniform_random(self):\n",
    "        randomx = uniform(0.0,1)\n",
    "        return randomx\n",
    "    \n",
    "    def cum_sum_prob(self):\n",
    "        prob_list = [] \n",
    "\n",
    "\n",
    "        running_total = 0\n",
    "        Cum_prob_list=[]\n",
    "        \n",
    "        for j in range(len(self.A)):\n",
    "            running_total += self.A[j]\n",
    "            Cum_prob_list.append(running_total/self.sum_list())\n",
    "        \n",
    "        return Cum_prob_list\n",
    "    \n",
    "\n",
    "         \n",
    "            \n",
    "    def pick_a_number_from_list(self):\n",
    "        cum_list = self.cum_sum_prob()\n",
    "        random_list = self.uniform_random()\n",
    "        for i in range (len(self.cum_sum_prob())):\n",
    "            if (random_list <= cum_list[i] ):\n",
    "                break\n",
    "        return self.A[i]\n",
    " \n"
   ]
  },
  {
   "cell_type": "code",
   "execution_count": 387,
   "metadata": {
    "scrolled": true
   },
   "outputs": [
    {
     "name": "stdout",
     "output_type": "stream",
     "text": [
      "39\n",
      "39\n",
      "27\n",
      "79\n",
      "79\n",
      "100\n",
      "100\n",
      "79\n",
      "100\n",
      "39\n",
      "100\n",
      "45\n",
      "39\n",
      "79\n",
      "13\n",
      "79\n",
      "13\n",
      "10\n",
      "100\n",
      "100\n",
      "100\n",
      "100\n",
      "27\n",
      "79\n",
      "39\n",
      "10\n",
      "79\n",
      "79\n",
      "13\n",
      "79\n",
      "39\n",
      "100\n",
      "45\n",
      "100\n",
      "27\n",
      "79\n",
      "10\n",
      "100\n",
      "79\n",
      "100\n",
      "79\n",
      "79\n",
      "79\n",
      "79\n",
      "100\n",
      "79\n",
      "79\n",
      "79\n",
      "100\n",
      "79\n",
      "100\n",
      "10\n",
      "79\n",
      "100\n",
      "45\n",
      "100\n",
      "39\n",
      "5\n",
      "100\n",
      "100\n",
      "27\n",
      "45\n",
      "45\n",
      "100\n",
      "79\n",
      "100\n",
      "100\n",
      "100\n",
      "100\n",
      "10\n",
      "100\n",
      "79\n",
      "45\n",
      "79\n",
      "39\n",
      "100\n",
      "79\n",
      "100\n",
      "45\n",
      "100\n",
      "39\n",
      "79\n",
      "79\n",
      "39\n",
      "100\n",
      "100\n",
      "5\n",
      "27\n",
      "100\n",
      "39\n",
      "79\n",
      "10\n",
      "39\n",
      "45\n",
      "100\n",
      "100\n",
      "100\n",
      "10\n",
      "100\n"
     ]
    }
   ],
   "source": [
    "\n",
    "\n",
    "def sampling_based_on_magnitued():\n",
    "    A = [0,5 ,27 ,6, 13, 39, 100, 45, 10, 79]\n",
    "    numberx = Propor_Prob(A)\n",
    "    for i in range(1,100):\n",
    "        number = numberx.pick_a_number_from_list()\n",
    "        print(number)\n",
    "\n",
    "sampling_based_on_magnitued()"
   ]
  },
  {
   "cell_type": "code",
   "execution_count": null,
   "metadata": {},
   "outputs": [],
   "source": []
  },
  {
   "cell_type": "markdown",
   "metadata": {
    "colab_type": "text",
    "id": "D1xQy2WWB-kq"
   },
   "source": [
    "<h3> Q3: Replace the digits in the string with #</h3>\n",
    "\n",
    "consider a string that will have digits in that, we need to remove all the not digits and replace the digits with #\n",
    "<pre>\n",
    "Ex 1: A = 234                Output: ###\n",
    "Ex 2: A = a2b3c4             Output: ###\n",
    "Ex 3: A = abc                Output:   (empty string)\n",
    "Ex 5: A = #2a$#b%c%561#      Output: ####\n",
    "</pre>"
   ]
  },
  {
   "cell_type": "markdown",
   "metadata": {},
   "source": [
    "<div class=\"alert alert-block alert-success\"><b>Reference:</b>  https://stackoverflow.com/questions/19084443/replacing-digits-with-str-replace\n",
    "<br>          - https://stackoverflow.com/questions/1249388/removing-all-non-numeric-characters-from-string-in-python</div>"
   ]
  },
  {
   "cell_type": "code",
   "execution_count": 406,
   "metadata": {
    "colab": {},
    "colab_type": "code",
    "id": "fxczi2jzB-kr"
   },
   "outputs": [
    {
     "name": "stdout",
     "output_type": "stream",
     "text": [
      "###\n"
     ]
    }
   ],
   "source": [
    "import re\n",
    "class replace_digits:\n",
    "    def __init__(self, Old_Str):\n",
    "        self.Old_Str = Old_Str\n",
    "        self.replace_str()\n",
    "    \n",
    "    def replace_str(self):\n",
    "        new_Str=re.sub(\"[^\\d\\.]\", \"\", self.Old_Str)\n",
    "        new_Str2 = re.sub('\\d', '#', new_Str)\n",
    "\n",
    "        return (new_Str2)       \n",
    "                \n",
    "        \n",
    "\n",
    "\n",
    "y=replace_digits(\"a2b3c4\")\n",
    "z=y.replace_str()\n",
    "print(z)"
   ]
  },
  {
   "cell_type": "markdown",
   "metadata": {
    "colab_type": "text",
    "id": "j7h0Ywg7B-kw"
   },
   "source": [
    "<h3> Q4: Students marks dashboard</h3>\n",
    "\n",
    "consider the marks list of class students given two lists <br>\n",
    "Students = ['student1','student2','student3','student4','student5','student6','student7','student8','student9','student10'] <br>\n",
    "Marks = [45, 78, 12, 14, 48, 43, 45, 98, 35, 80] <br>\n",
    "from the above two lists the Student[0] got Marks[0],  Student[1] got Marks[1] and so on <br><br>\n",
    "your task is to print the name of students\n",
    "<strong>a. Who got top 5 ranks, in the descending order of marks</strong> <br>\n",
    "<strong>b. Who got least 5 ranks, in the increasing order of marks</strong><br>\n",
    "<strong>d. Who got marks between  &gt;25th percentile &lt;75th percentile, in the increasing order of marks</strong>\n",
    "\n",
    "<pre>\n",
    "Ex 1: \n",
    "Students=['student1','student2','student3','student4','student5','student6','student7','student8','student9','student10'] \n",
    "Marks = [45, 78, 12, 14, 48, 43, 47, 98, 35, 80]\n",
    "a. \n",
    "student8  98\n",
    "student10 80\n",
    "student2  78\n",
    "student5  48\n",
    "student7  47\n",
    "b.\n",
    "student3 12\n",
    "student4 14\n",
    "student9 35\n",
    "student6 43\n",
    "student1 45\n",
    "c.\n",
    "student9 35\n",
    "student6 43\n",
    "student1 45\n",
    "student7 47\n",
    "student5 48\n",
    "</pre>"
   ]
  },
  {
   "cell_type": "code",
   "execution_count": 360,
   "metadata": {},
   "outputs": [],
   "source": [
    "import math\n",
    "\n",
    "class display_dash_board:\n",
    "    def __init__(self, Student,Marks):\n",
    "        self.Student = Student\n",
    "        self.Marks= Marks\n",
    "        \n",
    "    def desc_order(self):\n",
    "        for i in range(0,len(self.Marks)-1):\n",
    "            for k in range (i+1,len(self.Marks) ):\n",
    "                if self.Marks[i] < self.Marks[k]:\n",
    "                    self.Marks[i] , self.Marks[k] = self.Marks[k] , self.Marks[i]\n",
    "                    self.Student[i] , self.Student[k] = self.Student[k] , self.Student[i]\n",
    "        res = [m+'  '+ str(n) for m,n in zip(self.Student,self.Marks)]\n",
    "        \n",
    "        return (res)\n",
    "    \n",
    "    def Top5(self):\n",
    "        top5_list = []\n",
    "        result_list = self.desc_order()\n",
    "        for i in range(0,5):\n",
    "            top5_list.append(result_list[i])\n",
    "        return(top5_list)\n",
    "    \n",
    "    def bottom5(self):\n",
    "        bottom5_list = []\n",
    "        result_list = self.desc_order()\n",
    "        for i in range(len(result_list)-1,len(result_list)-6,-1) :\n",
    "            bottom5_list.append(result_list[i])\n",
    "        return(bottom5_list)\n",
    "    \n",
    "    def students_within_25_and_75(self):\n",
    "        students_within_25_and_75_list = []\n",
    "        result_list = self.desc_order()\n",
    "        for i in range(math.floor(len(result_list)*0.75),math.ceil(len(result_list)*0.25)-1,-1) :\n",
    "            students_within_25_and_75_list.append(result_list[i])\n",
    "        return(students_within_25_and_75_list)\n",
    "    \n",
    "    def final_Result(self):\n",
    "        return self.Top5(), self.bottom5(), self.students_within_25_and_75()\n",
    "            \n",
    "                \n",
    "        "
   ]
  },
  {
   "cell_type": "code",
   "execution_count": 361,
   "metadata": {},
   "outputs": [],
   "source": [
    "Students=['student1','student2','student3','student4','student5','student6','student7','student8','student9','student10'] \n",
    "Marks = [45, 78, 12, 14, 48, 43, 47, 98, 35, 80]"
   ]
  },
  {
   "cell_type": "code",
   "execution_count": 362,
   "metadata": {},
   "outputs": [],
   "source": [
    "y = display_dash_board (Students, Marks)"
   ]
  },
  {
   "cell_type": "code",
   "execution_count": 363,
   "metadata": {},
   "outputs": [
    {
     "name": "stdout",
     "output_type": "stream",
     "text": [
      "['student9  35', 'student6  43', 'student1  45', 'student7  47', 'student5  48']\n"
     ]
    }
   ],
   "source": [
    "x = y.students_within_25_and_75()\n",
    "print(x)"
   ]
  },
  {
   "cell_type": "code",
   "execution_count": 366,
   "metadata": {},
   "outputs": [
    {
     "name": "stdout",
     "output_type": "stream",
     "text": [
      "['student8  98', 'student10  80', 'student2  78', 'student5  48', 'student7  47']\n",
      "['student3  12', 'student4  14', 'student9  35', 'student6  43', 'student1  45']\n",
      "['student9  35', 'student6  43', 'student1  45', 'student7  47', 'student5  48']\n"
     ]
    }
   ],
   "source": [
    "top_5_students, least_5_students, students_within_25_and_75 = y.final_Result()\n",
    "print(top_5_students)\n",
    "print(least_5_students)\n",
    "print(students_within_25_and_75)"
   ]
  },
  {
   "cell_type": "markdown",
   "metadata": {
    "colab_type": "text",
    "id": "qha0OhQHB-k1"
   },
   "source": [
    "<h3> Q5: Find the closest points</h3>\n",
    "\n",
    "consider you have given n data points in the form of list of tuples like S=[(x1,y1),(x2,y2),(x3,y3),(x4,y4),(x5,y5),..,(xn,yn)] and a point P=(p,q) <br> your task is to find 5 closest points(based on cosine distance) in S from P\n",
    "<br>cosine distance between two points (x,y) and (p,q) is defind as $cos^{-1}(\\frac{(x\\cdot p+y\\cdot q)}{\\sqrt(x^2+y^2)\\cdot\\sqrt(p^2+q^2)})$\n",
    "<pre>\n",
    "Ex:\n",
    "\n",
    "S= [(1,2),(3,4),(-1,1),(6,-7),(0, 6),(-5,-8),(-1,-1)(6,0),(1,-1)]\n",
    "P= (3,-4)\n",
    "<img src='https://i.imgur.com/vIFPOcG.jpg', width=300>\n",
    "Output:\n",
    "(6,-7)\n",
    "(1,-1)\n",
    "(6,0)\n",
    "(-5,-8)\n",
    "(-1,-1)\n",
    "</pre>"
   ]
  },
  {
   "cell_type": "code",
   "execution_count": 404,
   "metadata": {
    "colab": {},
    "colab_type": "code",
    "id": "wA5I1g-2B-k2"
   },
   "outputs": [
    {
     "name": "stdout",
     "output_type": "stream",
     "text": [
      "[(6, -7), (1, -1), (6, 0), (-5, -8), (-1, -1), (3, 4), (1, 2), (0, 6), (-1, 1)]\n",
      "\n"
     ]
    }
   ],
   "source": [
    "import math\n",
    "\n",
    "class closest_points_to_p:\n",
    "    def __init__(self, S,P):\n",
    "        self.S = S\n",
    "        self.P = P\n",
    "        \n",
    "    def distance_points(self):\n",
    "        distance_list=[]\n",
    "        append_list = []\n",
    "        for i in range (0,len(self.S)):\n",
    "            numerator = self.S[i][0] * self.P[0] + self.S[i][1] * self.P[1]\n",
    "            denominator = math.sqrt(self.S[i][0] ** 2 + self.S[i][1] ** 2) * math.sqrt(self.P[0] ** 2 + self.P[1] ** 2)\n",
    "            Div = numerator/denominator\n",
    "            distance = math.acos (Div)\n",
    "            distance_list.append(round(distance,2))\n",
    "            #list_a, list_b = zip(*self.S)\n",
    "            \n",
    "        return distance_list\n",
    "    \n",
    "    def desc_order(self):\n",
    "        distance_list_sort = self.distance_points()\n",
    "        list_a, list_b = zip(*self.S)\n",
    "        list_a = list(list_a)\n",
    "        list_b = list(list_b)\n",
    "        for i in range(0,len(distance_list_sort)-1):\n",
    "            for k in range (i+1,len(distance_list_sort) ):\n",
    "                if distance_list_sort[i] > distance_list_sort[k]:\n",
    "                    distance_list_sort[i] , distance_list_sort[k] = distance_list_sort[k] , distance_list_sort[i]\n",
    "                    list_a[i] , list_a[k] = list_a[k] , list_a[i]\n",
    "                    list_b[i] , list_b[k] = list_b[k] , list_b[i]\n",
    "        res = list(map(tuple, zip(list_a, list_b)))\n",
    "\n",
    "        return (res)\n",
    "\n",
    "        \n",
    "\n",
    "\n",
    "\n",
    "\n",
    "S= [(1,2),(3,4),(-1,1),(6,-7),(0, 6),(-5,-8),(-1,-1),(6,0),(1,-1)]\n",
    "P= (3,-4)\n",
    "#print(P[1])\n",
    "xx = closest_points_to_p(S,P)\n",
    "DL = xx.desc_order()\n",
    "print(DL)\n",
    "#points = closest_points_to_p(S, P)\n",
    "print() #print the returned values"
   ]
  },
  {
   "cell_type": "markdown",
   "metadata": {
    "colab_type": "text",
    "id": "-g11jeAiB-k5"
   },
   "source": [
    "<h3> Q6: Find Which line separates oranges and apples</h3>\n",
    "consider you have given two set of data points in the form of list of tuples like \n",
    "<pre>\n",
    "Red =[(R11,R12),(R21,R22),(R31,R32),(R41,R42),(R51,R52),..,(Rn1,Rn2)]\n",
    "Blue=[(B11,B12),(B21,B22),(B31,B32),(B41,B42),(B51,B52),..,(Bm1,Bm2)]\n",
    "</pre>\n",
    "and set of line equations(in the string formate, i.e list of strings)\n",
    "<pre>\n",
    "Lines = [a1x+b1y+c1,a2x+b2y+c2,a3x+b3y+c3,a4x+b4y+c4,..,K lines]\n",
    "Note: you need to string parsing here and get the coefficients of x,y and intercept\n",
    "</pre>\n",
    "your task is to for each line that is given print \"YES\"/\"NO\", you will print yes, if all the red points are one side of the line and blue points are other side of the line, otherwise no\n",
    "<pre>\n",
    "Ex:\n",
    "Red= [(1,1),(2,1),(4,2),(2,4), (-1,4)]\n",
    "Blue= [(-2,-1),(-1,-2),(-3,-2),(-3,-1),(1,-3)]\n",
    "Lines=[\"1x+1y+0\",\"1x-1y+0\",\"1x+0y-3\",\"0x+1y-0.5\"]\n",
    "<img src='https://i.imgur.com/DoQf7mE.jpg' width=400>\n",
    "Output:\n",
    "YES\n",
    "NO\n",
    "NO\n",
    "YES\n",
    "</pre>"
   ]
  },
  {
   "cell_type": "markdown",
   "metadata": {},
   "source": [
    "<div class=\"alert alert-block alert-success\"><b>Reference:</b> \n",
    "https://www.programcreek.com/python/example/134/re.split   \n",
    "</div>"
   ]
  },
  {
   "cell_type": "code",
   "execution_count": null,
   "metadata": {},
   "outputs": [],
   "source": []
  },
  {
   "cell_type": "code",
   "execution_count": 5,
   "metadata": {},
   "outputs": [],
   "source": [
    "\n",
    "import re\n",
    "class segregate_line:\n",
    "    def __init__ (self, Red,Blue,Lines):\n",
    "        self.Red = Red\n",
    "        self.Blue = Blue\n",
    "        self.Lines = Lines\n",
    "    def Lines_Coeff(self,pos):\n",
    "        a, b, c = [float(x.strip()) for x in re.split('x|y', self.Lines[pos])]\n",
    "        return a,b,c\n",
    "    \n",
    "    def Red_line_Sep(self):   \n",
    "        Red_line_List_final = []\n",
    "        for i in range(0,len(self.Lines)):\n",
    "            pos_a,pos_b,pos_c=  self.Lines_Coeff(i)\n",
    "            Red_line_List=[]\n",
    "            for j in range (0, len(self.Red)):\n",
    "                red = pos_a * self.Red[j][0] + pos_b * self.Red[j][1] + pos_c\n",
    "                Red_line_List.append(red)\n",
    "            Red_line_List_final.append(Red_line_List)\n",
    "                \n",
    "        return Red_line_List_final\n",
    "    \n",
    "    def Blue_line_Sep(self):   \n",
    "        Blue_line_List_final = []\n",
    "        for i in range(0,len(self.Lines)):\n",
    "            pos_a,pos_b,pos_c=  self.Lines_Coeff(i)\n",
    "            Blue_line_List =[]\n",
    "            for j in range (0, len(self.Blue)):\n",
    "                Blue = pos_a * self.Blue[j][0] + pos_b * self.Blue[j][1] + pos_c\n",
    "                Blue_line_List.append(Blue)\n",
    "            Blue_line_List_final.append(Blue_line_List)\n",
    "\n",
    "        return Blue_line_List_final\n",
    "    \n",
    "    def Print_Yes_No(self):\n",
    "        Blue = [all(f < 0 for f in i) for i in self.Blue_line_Sep()]\n",
    "        Red = [all(l>0 for l in i) for i in self.Red_line_Sep()]\n",
    "\n",
    "        for i in range(len(Blue)):\n",
    "            if(Blue[i]==True and Red[i]==True):\n",
    "                print(\"Yes\")\n",
    "            else:\n",
    "                print('No')"
   ]
  },
  {
   "cell_type": "code",
   "execution_count": 6,
   "metadata": {},
   "outputs": [
    {
     "name": "stdout",
     "output_type": "stream",
     "text": [
      "Yes\n",
      "No\n",
      "No\n",
      "Yes\n",
      "None\n"
     ]
    }
   ],
   "source": [
    "Red= [(1,1),(2,1),(4,2),(2,4), (-1,4)]\n",
    "Blue= [(-2,-1),(-1,-2),(-3,-2),(-3,-1),(1,-3)]\n",
    "Lines=[\"1x+1y+0\",\"1x-1y+0\",\"1x+0y-3\",\"0x+1y-0.5\"]\n",
    "\n",
    "y = segregate_line(Red,Blue,Lines)\n",
    "z = y.Print_Yes_No()\n",
    "print(z)"
   ]
  },
  {
   "cell_type": "markdown",
   "metadata": {
    "colab_type": "text",
    "id": "9OBpURbNB-k9"
   },
   "source": [
    "<h3> Q7: Filling the missing values in the specified formate</h3>\n",
    "You will be given a string with digits and '\\_'(missing value) symbols you have to replace the '\\_' symbols as explained \n",
    "<pre>\n",
    "Ex 1: _, _, _, 24 ==> 24/4, 24/4, 24/4, 24/4 i.e we. have distributed the 24 equally to all 4 places <br>\n",
    "Ex 2: 40, _, _, _, 60 ==> (60+40)/5,(60+40)/5,(60+40)/5,(60+40)/5,(60+40)/5 ==> 20, 20, 20, 20, 20 i.e. the sum of (60+40) is distributed qually to all 5 places<br>\n",
    "Ex 3: 80, _, _, _, _  ==> 80/5,80/5,80/5,80/5,80/5 ==> 16, 16, 16, 16, 16 i.e. the 80 is distributed qually to all 5 missing values that are right to it<br>\n",
    "Ex 4: _, _, 30, _, _, _, 50, _, _  \n",
    "==> we will fill the missing values from left to right \n",
    "    a. first we will distribute the 30 to left two missing values (10, 10, 10, _, _, _, 50, _, _)\n",
    "    b. now distribute the sum (10+50) missing values in between (10, 10, 12, 12, 12, 12, 12, _, _) \n",
    "    c. now we will distribute 12 to right side missing values (10, 10, 12, 12, 12, 12, 4, 4, 4)\n",
    "</pre>\n",
    "for a given string with comma seprate values, which will have both missing values numbers like ex: \"_, _, x, _, _, _\"\n",
    "you need fill the missing values\n",
    "\n",
    "Q: your program reads a string like ex: \"_, _, x, _, _, _\" and returns the filled sequence\n",
    "\n",
    "Ex: \n",
    "<pre>\n",
    "Input1: \"_,_,_,24\"\n",
    "Output1: 6,6,6,6\n",
    "\n",
    "Input2: \"40,_,_,_,60\"\n",
    "Output2: 20,20,20,20,20\n",
    "\n",
    "Input3: \"80,_,_,_,_\"\n",
    "Output3: 16,16,16,16,16\n",
    "\n",
    "Input4: \"_,_,30,_,_,_,50,_,_\"\n",
    "Output4: 10,10,12,12,12,12,4,4,4\n",
    "</pre>\n",
    "\n"
   ]
  },
  {
   "cell_type": "code",
   "execution_count": 93,
   "metadata": {},
   "outputs": [
    {
     "name": "stdout",
     "output_type": "stream",
     "text": [
      "[10, 10, 10, 12, 12, 12, 12, 12, 4, 4, 4]\n"
     ]
    }
   ],
   "source": [
    "\n",
    "\n",
    "def curve_smoothing(String):\n",
    "    S = String.split(',')\n",
    "    #print(S[2])\n",
    "    #print(S[6])\n",
    "    #String = S.split(',')\n",
    "    #print(String)\n",
    "    Len_String = len(S)\n",
    "    #print(Len_String)\n",
    "    No_of_digits = 0\n",
    "    position_list = []\n",
    "#find the position of the digits\n",
    "    position_list.append(0)\n",
    "    for i in range(0, Len_String):\n",
    "\n",
    "        if S[i].isdigit():\n",
    "            position_list.append(i)\n",
    "\n",
    "    position_list.append(Len_String-1)\n",
    "\n",
    "    position_list = list(dict.fromkeys(position_list))\n",
    "\n",
    "    x= 0 #starting position\n",
    "    list2=[]\n",
    "    #len_2= len()\n",
    "    sum_X =0\n",
    "    list_ = 'List_'\n",
    "\n",
    "    list_name =[]\n",
    "    for k in range(0,len(position_list)-1):\n",
    "        list_name.append(list_ + str(k))\n",
    "\n",
    "    #print(list_name)\n",
    "#Create separate list\n",
    "    for k in range(0,len(position_list)):\n",
    "        if k+1 >= len(position_list):\n",
    "            break;\n",
    "        list_name[k] = S[position_list[k]:position_list[k+1]+1]\n",
    "        #print(list_name[k])\n",
    "\n",
    "\n",
    "# Run two loops\n",
    "    for j in range(0,len(list_name)):\n",
    "        \n",
    "        if j>0:\n",
    "            #Update the first digit with the any digit of the previous list\n",
    "            #print(str(list_name[j-1][0]))\n",
    "            list_name[j][0] = str(list_name[j-1][0])\n",
    "\n",
    "        No_of_digits = 0\n",
    "        Empty_list =[]\n",
    "        sum_s = 0\n",
    "        for i in range(0,len(list_name[j])):\n",
    "            #print(j,list_name[j][i])\n",
    "            if list_name[j][i].isdigit():\n",
    "\n",
    "                No_of_digits+= 1\n",
    "                Empty_list.append(float(list_name[j][i]))\n",
    "                #print(i)\n",
    "                if i == 0 or i == len(list_name[j])-1:\n",
    "                    sum_s += Empty_list[No_of_digits-1]\n",
    "        Equal_distribution = int(sum_s/len(list_name[j]))\n",
    "\n",
    "        for l in range(0,len(list_name[j])):\n",
    "            list_name[j][l] = Equal_distribution\n",
    "\n",
    "    final_list = []  \n",
    "    for i in range(0,len(list_name)):\n",
    "        for j in range(0,len(list_name[i])):\n",
    "            final_list.append(list_name[i][j])\n",
    "        \n",
    "\n",
    "    return final_list\n",
    "String= \"_,_,30,_,_,_,50,_,_\"\n",
    "#String=\"36,_,_,24\"\n",
    "y= curve_smoothing(String)\n",
    "\n",
    "#print(list_name[0],list_name[1],list_name[2])\n",
    "print(y)\n",
    "        \n",
    "        \n",
    "\n",
    "\n",
    "\n",
    "\n",
    "\n"
   ]
  },
  {
   "cell_type": "markdown",
   "metadata": {
    "colab_type": "text",
    "id": "RBz4pzlfB-lB"
   },
   "source": [
    "<h3> Q8: Filling the missing values in the specified formate</h3>\n",
    "You will be given a list of lists, each sublist will be of length 2 i.e. [[x,y],[p,q],[l,m]..[r,s]]\n",
    "consider its like a martrix of n rows and two columns\n",
    "1. the first column F will contain only 5 uniques values (F1, F2, F3, F4, F5)\n",
    "2. the second column S will contain only 3 uniques values (S1, S2, S3)\n",
    "<pre>\n",
    "your task is to find\n",
    "a. Probability of P(F=F1|S==S1), P(F=F1|S==S2), P(F=F1|S==S3)\n",
    "b. Probability of P(F=F2|S==S1), P(F=F2|S==S2), P(F=F2|S==S3)\n",
    "c. Probability of P(F=F3|S==S1), P(F=F3|S==S2), P(F=F3|S==S3)\n",
    "d. Probability of P(F=F4|S==S1), P(F=F4|S==S2), P(F=F4|S==S3)\n",
    "e. Probability of P(F=F5|S==S1), P(F=F5|S==S2), P(F=F5|S==S3)\n",
    "</pre>\n",
    "Ex:\n",
    "\n",
    "<pre>\n",
    "[[F1,S1],[F2,S2],[F3,S3],[F1,S2],[F2,S3],[F3,S2],[F2,S1],[F4,S1],[F4,S3],[F5,S1]]\n",
    "\n",
    "a. P(F=F1|S==S1)=1/4, P(F=F1|S==S2)=1/3, P(F=F1|S==S3)=0/3\n",
    "b. P(F=F2|S==S1)=1/4, P(F=F2|S==S2)=1/3, P(F=F2|S==S3)=1/3\n",
    "c. P(F=F3|S==S1)=0/4, P(F=F3|S==S2)=1/3, P(F=F3|S==S3)=1/3\n",
    "d. P(F=F4|S==S1)=1/4, P(F=F4|S==S2)=0/3, P(F=F4|S==S3)=1/3\n",
    "e. P(F=F5|S==S1)=1/4, P(F=F5|S==S2)=0/3, P(F=F5|S==S3)=0/3\n",
    "</pre>\n",
    "\n",
    "\n"
   ]
  },
  {
   "cell_type": "code",
   "execution_count": 363,
   "metadata": {},
   "outputs": [],
   "source": [
    "class compute_conditional_probabilites:\n",
    "    def __init__(self,A):\n",
    "        self.A = A\n",
    "    def counting_S(self):\n",
    "        Empty_list = []\n",
    "        for i in range (0,len(self.A)):\n",
    "            Empty_list.append(self.A[i][1])\n",
    "            \n",
    "        unique_list = list(dict.fromkeys(Empty_list))    \n",
    "        dict_S_count = dict()\n",
    "        for item_list in unique_list:\n",
    "            dict_key = item_list\n",
    "            counter  = 0\n",
    "            for j in Empty_list:\n",
    "                if item_list ==j:\n",
    "                    counter += 1\n",
    "                    \n",
    "                \n",
    "            dict_S_count[dict_key] = counter\n",
    "        return unique_list,dict_S_count\n",
    "    \n",
    "    def counting_F(self):\n",
    "        Empty_list = []\n",
    "        for i in range (0,len(self.A)):\n",
    "            Empty_list.append(self.A[i][0])\n",
    "            \n",
    "        unique_list = list(dict.fromkeys(Empty_list))    \n",
    "        dict_F_count = dict()\n",
    "        for item_list in unique_list:\n",
    "            dict_key = item_list\n",
    "            counter  = 0\n",
    "            for j in Empty_list:\n",
    "                if item_list ==j:\n",
    "                    counter += 1\n",
    "                    \n",
    "                \n",
    "            dict_F_count[dict_key] = counter\n",
    "        return unique_list\n",
    "    \n",
    "    def zip_S_F(self):\n",
    "        uniq_s, dic_S_count = self.counting_S()\n",
    "        uniq_f = self.counting_F()\n",
    "        Concated_list = []\n",
    "        for i in uniq_f:\n",
    "            \n",
    "            for j in uniq_s:\n",
    "               \n",
    "                for k in range (0,len(self.A)):\n",
    "                    if i == self.A[k][0] and j == self.A[k][1]:\n",
    "                        Concated_list.append(i+j)\n",
    "                        \n",
    "        # Concated All list\n",
    "        \n",
    "        Concated_All_list = []\n",
    "        for i in uniq_f:\n",
    "            \n",
    "            for j in uniq_s:\n",
    "                Concated_All_list.append (i+j)\n",
    "                \n",
    "        # S list with the same length\n",
    "        S_list =[]\n",
    "        for item in Concated_All_list:\n",
    "            S_list.append(item[2:4])\n",
    "            \n",
    "        S_list_values = []\n",
    "        for item_list in S_list:\n",
    "            dict_value = dic_S_count[item_list]\n",
    "            S_list_values.append(dict_value)\n",
    "            \n",
    "    \n",
    "        # concated intersection all dictionary\n",
    "        dict_intersection_count = dict()\n",
    "        for item_list in Concated_All_list:\n",
    "            dict_key = item_list\n",
    "            counter = 0\n",
    "            for item in Concated_list:\n",
    "                if item_list == item:\n",
    "                    counter +=1\n",
    "            dict_intersection_count[dict_key] = counter\n",
    "        return S_list, S_list_values,dict_intersection_count\n",
    "    \n",
    "    \n",
    "    def creating_list_within_list(self):\n",
    "        S_list, S_list_values,dict_intersection_count = self.zip_S_F()\n",
    "        intersection_list = list (dict_intersection_count.keys())\n",
    "        intersection_list_Values = list (dict_intersection_count.values())\n",
    "        uniq_s, dic_S_count = self.counting_S()\n",
    "        uniq_f = self.counting_F()\n",
    "        intersection_list_1=[]\n",
    "        intersection_list_Values_1 =[]\n",
    "        S_list_1 =[]\n",
    "        S_list_values_1 =[]\n",
    "        for i in range(0,len(intersection_list),3):\n",
    "            intersection_list_2=[]\n",
    "            intersection_list_Values_2 =[]\n",
    "            \n",
    "            S_list_2=[]\n",
    "            S_list_values_2 =[]\n",
    "            for j in range (0,len(uniq_s)):\n",
    "                intersection_list_2.append(intersection_list[i+j])\n",
    "                intersection_list_Values_2.append(intersection_list_Values[i+j])\n",
    "                S_list_2.append(S_list[i+j])\n",
    "                S_list_values_2.append(S_list_values[i+j])\n",
    "            intersection_list_1.append(intersection_list_2)\n",
    "            intersection_list_Values_1.append(intersection_list_Values_2)\n",
    "            S_list_1.append(S_list_2)\n",
    "            S_list_values_1.append(S_list_values_2)\n",
    "            \n",
    "                \n",
    "        #   \n",
    "        return S_list_1,S_list_values_1,intersection_list_1, intersection_list_Values_1 \n",
    "    \n",
    "    \n",
    "    def print_format(self):\n",
    "        S_list_1,S_list_values_1,intersection_list_1, intersection_list_Values_1= self.creating_list_within_list()\n",
    "        format_print_F ='P(F='\n",
    "        format_print_S ='|S=='\n",
    "        format_print_last = ')='\n",
    "        format_print_1 =[]\n",
    "        for i in range(0,len(S_list_1)):\n",
    "            format_print_2 =[]\n",
    "            for j in range(0,len(S_list_1[0])):\n",
    "                format_print_2.append(format_print_F+ intersection_list_1[i][j][0:2]+format_print_S +S_list_1[i][j]+format_print_last+ str(intersection_list_Values_1[i][j])+'/'+str(S_list_values_1[i][j]))\n",
    "                                      \n",
    "                \n",
    "            format_print_1.append(format_print_2)\n",
    "        list_2= ['a.','b.','c.','d.','e.']\n",
    "        final_list = [[]]\n",
    "        \n",
    "        # Zero Matrix\n",
    "        Matrix = [] \n",
    "        for i in range(0,5):\n",
    "            Matrix.append([])\n",
    "            for j in range (0,4):\n",
    "                Matrix[-1].append(0)\n",
    "\n",
    "            \n",
    "            \n",
    "            \n",
    "        \n",
    "        \n",
    "        return list_2,format_print_1\n",
    "        \n",
    "  "
   ]
  },
  {
   "cell_type": "code",
   "execution_count": 364,
   "metadata": {},
   "outputs": [],
   "source": [
    "A = [['F1', 'S1'], ['F2', 'S2'], ['F3', 'S3'], ['F1', 'S2'], ['F2', 'S3'], ['F3', 'S2'], ['F2', 'S1'], ['F4', 'S1'],\n",
    "     ['F4', 'S3'], ['F5', 'S1']]"
   ]
  },
  {
   "cell_type": "code",
   "execution_count": 366,
   "metadata": {},
   "outputs": [],
   "source": [
    "y = compute_conditional_probabilites(A)"
   ]
  },
  {
   "cell_type": "code",
   "execution_count": 368,
   "metadata": {},
   "outputs": [],
   "source": [
    "dummy_list1,dummy_list2  = y.print_format()"
   ]
  },
  {
   "cell_type": "code",
   "execution_count": 369,
   "metadata": {
    "scrolled": true
   },
   "outputs": [
    {
     "data": {
      "text/plain": [
       "['a.', 'b.', 'c.', 'd.', 'e.']"
      ]
     },
     "execution_count": 369,
     "metadata": {},
     "output_type": "execute_result"
    }
   ],
   "source": [
    "dummy_list1"
   ]
  },
  {
   "cell_type": "code",
   "execution_count": 370,
   "metadata": {},
   "outputs": [
    {
     "data": {
      "text/plain": [
       "[['P(F=F1|S==S1)=1/4', 'P(F=F1|S==S2)=1/3', 'P(F=F1|S==S3)=0/3'],\n",
       " ['P(F=F2|S==S1)=1/4', 'P(F=F2|S==S2)=1/3', 'P(F=F2|S==S3)=1/3'],\n",
       " ['P(F=F3|S==S1)=0/4', 'P(F=F3|S==S2)=1/3', 'P(F=F3|S==S3)=1/3'],\n",
       " ['P(F=F4|S==S1)=1/4', 'P(F=F4|S==S2)=0/3', 'P(F=F4|S==S3)=1/3'],\n",
       " ['P(F=F5|S==S1)=1/4', 'P(F=F5|S==S2)=0/3', 'P(F=F5|S==S3)=0/3']]"
      ]
     },
     "execution_count": 370,
     "metadata": {},
     "output_type": "execute_result"
    }
   ],
   "source": [
    "dummy_list2"
   ]
  },
  {
   "cell_type": "code",
   "execution_count": 385,
   "metadata": {},
   "outputs": [
    {
     "name": "stdout",
     "output_type": "stream",
     "text": [
      "a. ['P(F=F1|S==S1)=1/4', 'P(F=F1|S==S2)=1/3', 'P(F=F1|S==S3)=0/3']\n",
      "b. ['P(F=F2|S==S1)=1/4', 'P(F=F2|S==S2)=1/3', 'P(F=F2|S==S3)=1/3']\n",
      "c. ['P(F=F3|S==S1)=0/4', 'P(F=F3|S==S2)=1/3', 'P(F=F3|S==S3)=1/3']\n",
      "d. ['P(F=F4|S==S1)=1/4', 'P(F=F4|S==S2)=0/3', 'P(F=F4|S==S3)=1/3']\n",
      "e. ['P(F=F5|S==S1)=1/4', 'P(F=F5|S==S2)=0/3', 'P(F=F5|S==S3)=0/3']\n"
     ]
    }
   ],
   "source": [
    "for i,j in zip(range(len(dummy_list1)), range(len(dummy_list2))):\n",
    "      print(dummy_list1[i],dummy_list2[j] )\n",
    "    \n",
    "    \n",
    "        \n",
    "        \n",
    "  "
   ]
  },
  {
   "cell_type": "markdown",
   "metadata": {
    "colab_type": "text",
    "id": "n4HS87QmB-lF"
   },
   "source": [
    "<h3> Q9: Given two sentances S1, S2</h3>\n",
    "You will be given two sentances S1, S2 your task is to find \n",
    "<pre>\n",
    "a. Number of common words between S1, S2\n",
    "b. Words in S1 but not in S2\n",
    "c. Words in S2 but not in S1\n",
    "</pre>\n",
    "\n",
    "Ex: \n",
    "<pre>\n",
    "S1= \"the first column F will contain only 5 uniques values\"\n",
    "S2= \"the second column S will contain only 3 uniques values\"\n",
    "Output:\n",
    "a. 7\n",
    "b. ['first','F','5']\n",
    "c. ['second','S','3']\n",
    "</pre>"
   ]
  },
  {
   "cell_type": "code",
   "execution_count": 115,
   "metadata": {},
   "outputs": [
    {
     "name": "stdout",
     "output_type": "stream",
     "text": [
      "Common words-7\n",
      "S1 not S2['first', 'F', '5']\n",
      "S2 not S1['second', 'S', '3']\n"
     ]
    }
   ],
   "source": [
    "class string_features:\n",
    "    def __init__(self,S1, S2):\n",
    "        self.S1= S1\n",
    "        self.S2 = S2\n",
    "        self.split_string()\n",
    "    def split_string(self):\n",
    "        string_S1 = self.S1.split(' ')\n",
    "        string_S2 = self.S2.split(' ')\n",
    "        return string_S1, string_S2\n",
    "    \n",
    "    def common_words(self):\n",
    "        list1, list2 = self.split_string()\n",
    "        counter = 0\n",
    "        for i in list1:\n",
    "            for j in list2:\n",
    "                if i ==j:\n",
    "                    counter+=1\n",
    "        return counter\n",
    "    \n",
    "    def S1_Not_S2(self):\n",
    "        list1, list2 = self.split_string()\n",
    "        counter = 0\n",
    "        Empty_List = []\n",
    "        for i in list1:\n",
    "            for j in list2:\n",
    "                if i == j:\n",
    "                    Empty_List.append(i)\n",
    "                    \n",
    "        for l in range (0, len(Empty_List)):\n",
    "            list1.remove(Empty_List[l])\n",
    "        return list1\n",
    "            \n",
    "    def S2_Not_S1(self):\n",
    "        list1, list2 = self.split_string()\n",
    "        counter = 0\n",
    "        Empty_List = []\n",
    "        for i in list1:\n",
    "            for j in list2:\n",
    "                if i == j:\n",
    "                    Empty_List.append(i)\n",
    "                    \n",
    "        for l in range (0, len(Empty_List)):\n",
    "            list2.remove(Empty_List[l])\n",
    "            \n",
    "        \n",
    "        \n",
    "        return list2\n",
    "                    \n",
    "    \n",
    "    \n",
    "    \n",
    "S1= \"the first column F will contain only 5 uniques values\"\n",
    "S2= \"the second column S will contain only 3 uniques values\"\n",
    "y= string_features(S1,S2)\n",
    "\n",
    "\n",
    "z=y.common_words()\n",
    "print('Common words-{}'.format(z))\n",
    "z=y.S1_Not_S2()\n",
    "print('S1 not S2{}'.format(z))\n",
    "z = y.S2_Not_S1()\n",
    "print('S2 not S1{}'.format(z))\n",
    "        \n",
    "    \n",
    "        \n",
    "        "
   ]
  },
  {
   "cell_type": "markdown",
   "metadata": {
    "colab_type": "text",
    "id": "XefXVEjCB-lI"
   },
   "source": [
    "<h3> Q10: Given two sentances S1, S2</h3>\n",
    "You will be given a list of lists, each sublist will be of length 2 i.e. [[x,y],[p,q],[l,m]..[r,s]]\n",
    "consider its like a martrix of n rows and two columns\n",
    "\n",
    "a. the first column Y will contain interger values <br>\n",
    "b. the second column $Y_{score}$ will be having float values <br>\n",
    "Your task is to find the value of $f(Y,Y_{score}) = -1*\\frac{1}{n}\\Sigma_{for each Y,Y_{score} pair}(Ylog10(Y_{score})+(1-Y)log10(1-Y_{score}))$ here n is the number of rows in the matrix\n",
    "<pre>\n",
    "Ex:\n",
    "[[1, 0.4], [0, 0.5], [0, 0.9], [0, 0.3], [0, 0.6], [1, 0.1], [1, 0.9], [1, 0.8]]\n",
    "output:\n",
    "0.4243099\n",
    "</pre>\n",
    "$\\frac{-1}{8}\\cdot((1\\cdot log_{10}(0.4)+0\\cdot log_{10}(0.6))+(0\\cdot log_{10}(0.5)+1\\cdot log_{10}(0.5)) + ... + (1\\cdot log_{10}(0.8)+0\\cdot log_{10}(0.2)) )$"
   ]
  },
  {
   "cell_type": "code",
   "execution_count": 391,
   "metadata": {},
   "outputs": [],
   "source": [
    "A = [[1, 0.4], [0, 0.5], [0, 0.9], [0, 0.3], [0, 0.6], [1, 0.1], [1, 0.9], [1, 0.8]]"
   ]
  },
  {
   "cell_type": "code",
   "execution_count": 392,
   "metadata": {},
   "outputs": [
    {
     "data": {
      "text/plain": [
       "0.5"
      ]
     },
     "execution_count": 392,
     "metadata": {},
     "output_type": "execute_result"
    }
   ],
   "source": [
    "A[1][1]"
   ]
  },
  {
   "cell_type": "code",
   "execution_count": 394,
   "metadata": {},
   "outputs": [
    {
     "name": "stdout",
     "output_type": "stream",
     "text": [
      "0.42430993457031635\n"
     ]
    }
   ],
   "source": [
    "import math\n",
    "class compute_log_loss:\n",
    "    def __init__(self,A):\n",
    "        self.A =A\n",
    "        self.len_A = len(A)\n",
    "    def compute_loss(self):\n",
    "        sum_log_loss =0\n",
    "        for i in range(0,self.len_A ):\n",
    "            sum_log_loss += (self.A[i][0] * math.log10(self.A[i][1])) + ((1-self.A[i][0]) * math.log10(1-self.A[i][1]))\n",
    "        return   -1 * sum_log_loss/self.len_A\n",
    "    \n",
    "\n",
    "z= compute_log_loss(A)\n",
    "y =z.compute_loss()\n",
    "print(y)\n",
    "        \n",
    "    "
   ]
  },
  {
   "cell_type": "code",
   "execution_count": null,
   "metadata": {},
   "outputs": [],
   "source": []
  }
 ],
 "metadata": {
  "colab": {
   "collapsed_sections": [],
   "name": "1.Python Assignment.ipynb",
   "provenance": []
  },
  "kernelspec": {
   "display_name": "Python 3",
   "language": "python",
   "name": "python3"
  },
  "language_info": {
   "codemirror_mode": {
    "name": "ipython",
    "version": 3
   },
   "file_extension": ".py",
   "mimetype": "text/x-python",
   "name": "python",
   "nbconvert_exporter": "python",
   "pygments_lexer": "ipython3",
   "version": "3.7.1"
  }
 },
 "nbformat": 4,
 "nbformat_minor": 1
}
