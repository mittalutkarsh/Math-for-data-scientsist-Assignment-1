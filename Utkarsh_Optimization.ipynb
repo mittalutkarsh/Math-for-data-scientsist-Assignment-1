{
 "cells": [
  {
   "cell_type": "markdown",
   "metadata": {},
   "source": [
    "<div class=\"alert alert-block alert-success\"><b>Downloading the 1 Year Historical Prices of four stocks</b><br> Apple, Google, Gap, and Abbvie<br></div>"
   ]
  },
  {
   "cell_type": "markdown",
   "metadata": {},
   "source": [
    "<div class=\"alert alert-block alert-info\"><b>Importing Libraries</b><br>\n",
    " </div>"
   ]
  },
  {
   "cell_type": "code",
   "execution_count": 109,
   "metadata": {},
   "outputs": [],
   "source": [
    "from pandas_datareader import data\n",
    "import matplotlib.pyplot as plt\n",
    "import pandas as pd\n",
    "import numpy as np\n",
    "from pulp import *"
   ]
  },
  {
   "cell_type": "code",
   "execution_count": 56,
   "metadata": {},
   "outputs": [],
   "source": [
    "import datetime"
   ]
  },
  {
   "cell_type": "code",
   "execution_count": 57,
   "metadata": {},
   "outputs": [],
   "source": [
    "start_date = '2019-09-30'\n",
    "end_date = '2020-09-30'"
   ]
  },
  {
   "cell_type": "code",
   "execution_count": 68,
   "metadata": {},
   "outputs": [],
   "source": [
    "# Download the data\n",
    "\n",
    "Apple = data.DataReader('AAPL', 'yahoo', start_date, end_date)\n",
    "# Rename the column\n",
    "Apple = Apple.rename(columns={'Adj Close': 'Apple_Adj_Close'})\n",
    "# Drop the columns\n",
    "Apple= Apple.drop(['High', 'Low', 'Open', 'Close','Volume'], axis=1)\n",
    "# Drop the columns\n",
    "\n",
    "Apple['Apple_Daily_Return']= np.log(Apple / Apple.shift(1))\n",
    "\n",
    "Apple= Apple.drop(['Apple_Adj_Close'], axis=1)"
   ]
  },
  {
   "cell_type": "code",
   "execution_count": 73,
   "metadata": {},
   "outputs": [
    {
     "data": {
      "text/plain": [
       "Apple_Daily_Return    0.443382\n",
       "dtype: float64"
      ]
     },
     "execution_count": 73,
     "metadata": {},
     "output_type": "execute_result"
    }
   ],
   "source": [
    "Apple.mean()*252\n",
    "Apple.std() * 252 ** 0.5\n"
   ]
  },
  {
   "cell_type": "code",
   "execution_count": 74,
   "metadata": {},
   "outputs": [],
   "source": [
    "Goog = data.DataReader('Goog', 'yahoo', start_date, end_date)\n",
    "Goog = Goog.rename(columns={'Adj Close': 'Goog_Adj_Close'})\n",
    "# Drop the columns\n",
    "Goog= Goog.drop(['High', 'Low', 'Open', 'Close','Volume'], axis=1)\n",
    "# Drop the columns\n",
    "\n",
    "Goog['Goog_Daily_Return']= np.log(Goog / Goog.shift(1))\n",
    "\n",
    "Goog= Goog.drop(['Goog_Adj_Close'], axis=1)"
   ]
  },
  {
   "cell_type": "code",
   "execution_count": 75,
   "metadata": {},
   "outputs": [
    {
     "data": {
      "text/html": [
       "<div>\n",
       "<style scoped>\n",
       "    .dataframe tbody tr th:only-of-type {\n",
       "        vertical-align: middle;\n",
       "    }\n",
       "\n",
       "    .dataframe tbody tr th {\n",
       "        vertical-align: top;\n",
       "    }\n",
       "\n",
       "    .dataframe thead th {\n",
       "        text-align: right;\n",
       "    }\n",
       "</style>\n",
       "<table border=\"1\" class=\"dataframe\">\n",
       "  <thead>\n",
       "    <tr style=\"text-align: right;\">\n",
       "      <th></th>\n",
       "      <th>Goog_Daily_Return</th>\n",
       "    </tr>\n",
       "    <tr>\n",
       "      <th>Date</th>\n",
       "      <th></th>\n",
       "    </tr>\n",
       "  </thead>\n",
       "  <tbody>\n",
       "    <tr>\n",
       "      <th>2020-09-24</th>\n",
       "      <td>0.009200</td>\n",
       "    </tr>\n",
       "    <tr>\n",
       "      <th>2020-09-25</th>\n",
       "      <td>0.011604</td>\n",
       "    </tr>\n",
       "    <tr>\n",
       "      <th>2020-09-28</th>\n",
       "      <td>0.013446</td>\n",
       "    </tr>\n",
       "    <tr>\n",
       "      <th>2020-09-29</th>\n",
       "      <td>0.003279</td>\n",
       "    </tr>\n",
       "    <tr>\n",
       "      <th>2020-09-30</th>\n",
       "      <td>0.000184</td>\n",
       "    </tr>\n",
       "  </tbody>\n",
       "</table>\n",
       "</div>"
      ],
      "text/plain": [
       "            Goog_Daily_Return\n",
       "Date                         \n",
       "2020-09-24           0.009200\n",
       "2020-09-25           0.011604\n",
       "2020-09-28           0.013446\n",
       "2020-09-29           0.003279\n",
       "2020-09-30           0.000184"
      ]
     },
     "execution_count": 75,
     "metadata": {},
     "output_type": "execute_result"
    }
   ],
   "source": [
    "Goog.tail()"
   ]
  },
  {
   "cell_type": "code",
   "execution_count": 76,
   "metadata": {},
   "outputs": [],
   "source": [
    "Gap = data.DataReader('GPS', 'yahoo', start_date, end_date)\n",
    "Gap = Gap.rename(columns={'Adj Close': 'Gap_Adj_Close'})\n",
    "# Drop the columns\n",
    "Gap= Gap.drop(['High', 'Low', 'Open', 'Close','Volume'], axis=1)\n",
    "# Drop the columns\n",
    "\n",
    "Gap['Gap_Daily_Return']= np.log(Gap / Gap.shift(1))\n",
    "\n",
    "Gap= Gap.drop(['Gap_Adj_Close'], axis=1)"
   ]
  },
  {
   "cell_type": "code",
   "execution_count": 77,
   "metadata": {},
   "outputs": [
    {
     "data": {
      "text/html": [
       "<div>\n",
       "<style scoped>\n",
       "    .dataframe tbody tr th:only-of-type {\n",
       "        vertical-align: middle;\n",
       "    }\n",
       "\n",
       "    .dataframe tbody tr th {\n",
       "        vertical-align: top;\n",
       "    }\n",
       "\n",
       "    .dataframe thead th {\n",
       "        text-align: right;\n",
       "    }\n",
       "</style>\n",
       "<table border=\"1\" class=\"dataframe\">\n",
       "  <thead>\n",
       "    <tr style=\"text-align: right;\">\n",
       "      <th></th>\n",
       "      <th>Gap_Daily_Return</th>\n",
       "    </tr>\n",
       "    <tr>\n",
       "      <th>Date</th>\n",
       "      <th></th>\n",
       "    </tr>\n",
       "  </thead>\n",
       "  <tbody>\n",
       "    <tr>\n",
       "      <th>2020-09-24</th>\n",
       "      <td>-0.013995</td>\n",
       "    </tr>\n",
       "    <tr>\n",
       "      <th>2020-09-25</th>\n",
       "      <td>-0.001840</td>\n",
       "    </tr>\n",
       "    <tr>\n",
       "      <th>2020-09-28</th>\n",
       "      <td>0.054358</td>\n",
       "    </tr>\n",
       "    <tr>\n",
       "      <th>2020-09-29</th>\n",
       "      <td>-0.028902</td>\n",
       "    </tr>\n",
       "    <tr>\n",
       "      <th>2020-09-30</th>\n",
       "      <td>0.018969</td>\n",
       "    </tr>\n",
       "  </tbody>\n",
       "</table>\n",
       "</div>"
      ],
      "text/plain": [
       "            Gap_Daily_Return\n",
       "Date                        \n",
       "2020-09-24         -0.013995\n",
       "2020-09-25         -0.001840\n",
       "2020-09-28          0.054358\n",
       "2020-09-29         -0.028902\n",
       "2020-09-30          0.018969"
      ]
     },
     "execution_count": 77,
     "metadata": {},
     "output_type": "execute_result"
    }
   ],
   "source": [
    "Gap.tail()"
   ]
  },
  {
   "cell_type": "code",
   "execution_count": 78,
   "metadata": {},
   "outputs": [],
   "source": [
    "Abbvie = data.DataReader('ABBV', 'yahoo', start_date, end_date)\n",
    "Abbvie = Abbvie.rename(columns={'Adj Close': 'Abbvie_Adj_Close'})\n",
    "# Drop the columns\n",
    "Abbvie= Abbvie.drop(['High', 'Low', 'Open', 'Close','Volume'], axis=1)\n",
    "# Drop the columns\n",
    "\n",
    "Abbvie['Abbvie_Daily_Return']= np.log(Abbvie / Abbvie.shift(1))\n",
    "\n",
    "Abbvie= Abbvie.drop(['Abbvie_Adj_Close'], axis=1)"
   ]
  },
  {
   "cell_type": "code",
   "execution_count": 79,
   "metadata": {},
   "outputs": [
    {
     "data": {
      "text/html": [
       "<div>\n",
       "<style scoped>\n",
       "    .dataframe tbody tr th:only-of-type {\n",
       "        vertical-align: middle;\n",
       "    }\n",
       "\n",
       "    .dataframe tbody tr th {\n",
       "        vertical-align: top;\n",
       "    }\n",
       "\n",
       "    .dataframe thead th {\n",
       "        text-align: right;\n",
       "    }\n",
       "</style>\n",
       "<table border=\"1\" class=\"dataframe\">\n",
       "  <thead>\n",
       "    <tr style=\"text-align: right;\">\n",
       "      <th></th>\n",
       "      <th>Abbvie_Daily_Return</th>\n",
       "    </tr>\n",
       "    <tr>\n",
       "      <th>Date</th>\n",
       "      <th></th>\n",
       "    </tr>\n",
       "  </thead>\n",
       "  <tbody>\n",
       "    <tr>\n",
       "      <th>2020-09-24</th>\n",
       "      <td>-0.014216</td>\n",
       "    </tr>\n",
       "    <tr>\n",
       "      <th>2020-09-25</th>\n",
       "      <td>0.003718</td>\n",
       "    </tr>\n",
       "    <tr>\n",
       "      <th>2020-09-28</th>\n",
       "      <td>0.012103</td>\n",
       "    </tr>\n",
       "    <tr>\n",
       "      <th>2020-09-29</th>\n",
       "      <td>-0.004478</td>\n",
       "    </tr>\n",
       "    <tr>\n",
       "      <th>2020-09-30</th>\n",
       "      <td>0.008024</td>\n",
       "    </tr>\n",
       "  </tbody>\n",
       "</table>\n",
       "</div>"
      ],
      "text/plain": [
       "            Abbvie_Daily_Return\n",
       "Date                           \n",
       "2020-09-24            -0.014216\n",
       "2020-09-25             0.003718\n",
       "2020-09-28             0.012103\n",
       "2020-09-29            -0.004478\n",
       "2020-09-30             0.008024"
      ]
     },
     "execution_count": 79,
     "metadata": {},
     "output_type": "execute_result"
    }
   ],
   "source": [
    "Abbvie.tail()"
   ]
  },
  {
   "cell_type": "code",
   "execution_count": 95,
   "metadata": {},
   "outputs": [],
   "source": [
    "df = pd.merge(Apple, Goog, how='inner', on=['Date'])"
   ]
  },
  {
   "cell_type": "code",
   "execution_count": 96,
   "metadata": {},
   "outputs": [
    {
     "data": {
      "text/html": [
       "<div>\n",
       "<style scoped>\n",
       "    .dataframe tbody tr th:only-of-type {\n",
       "        vertical-align: middle;\n",
       "    }\n",
       "\n",
       "    .dataframe tbody tr th {\n",
       "        vertical-align: top;\n",
       "    }\n",
       "\n",
       "    .dataframe thead th {\n",
       "        text-align: right;\n",
       "    }\n",
       "</style>\n",
       "<table border=\"1\" class=\"dataframe\">\n",
       "  <thead>\n",
       "    <tr style=\"text-align: right;\">\n",
       "      <th></th>\n",
       "      <th>Apple_Daily_Return</th>\n",
       "      <th>Goog_Daily_Return</th>\n",
       "    </tr>\n",
       "    <tr>\n",
       "      <th>Date</th>\n",
       "      <th></th>\n",
       "      <th></th>\n",
       "    </tr>\n",
       "  </thead>\n",
       "  <tbody>\n",
       "    <tr>\n",
       "      <th>2019-09-30</th>\n",
       "      <td>NaN</td>\n",
       "      <td>NaN</td>\n",
       "    </tr>\n",
       "    <tr>\n",
       "      <th>2019-10-01</th>\n",
       "      <td>0.002764</td>\n",
       "      <td>-0.011468</td>\n",
       "    </tr>\n",
       "    <tr>\n",
       "      <th>2019-10-02</th>\n",
       "      <td>-0.025387</td>\n",
       "      <td>-0.023908</td>\n",
       "    </tr>\n",
       "    <tr>\n",
       "      <th>2019-10-03</th>\n",
       "      <td>0.008459</td>\n",
       "      <td>0.009474</td>\n",
       "    </tr>\n",
       "    <tr>\n",
       "      <th>2019-10-04</th>\n",
       "      <td>0.027646</td>\n",
       "      <td>0.017665</td>\n",
       "    </tr>\n",
       "  </tbody>\n",
       "</table>\n",
       "</div>"
      ],
      "text/plain": [
       "            Apple_Daily_Return  Goog_Daily_Return\n",
       "Date                                             \n",
       "2019-09-30                 NaN                NaN\n",
       "2019-10-01            0.002764          -0.011468\n",
       "2019-10-02           -0.025387          -0.023908\n",
       "2019-10-03            0.008459           0.009474\n",
       "2019-10-04            0.027646           0.017665"
      ]
     },
     "execution_count": 96,
     "metadata": {},
     "output_type": "execute_result"
    }
   ],
   "source": [
    "df.head()"
   ]
  },
  {
   "cell_type": "code",
   "execution_count": 97,
   "metadata": {},
   "outputs": [],
   "source": [
    "df = pd.merge(df, Gap, how='inner', on=['Date'])"
   ]
  },
  {
   "cell_type": "code",
   "execution_count": 98,
   "metadata": {},
   "outputs": [],
   "source": [
    "df = pd.merge(df, Abbvie, how='inner', on=['Date'])"
   ]
  },
  {
   "cell_type": "code",
   "execution_count": 99,
   "metadata": {},
   "outputs": [
    {
     "data": {
      "text/html": [
       "<div>\n",
       "<style scoped>\n",
       "    .dataframe tbody tr th:only-of-type {\n",
       "        vertical-align: middle;\n",
       "    }\n",
       "\n",
       "    .dataframe tbody tr th {\n",
       "        vertical-align: top;\n",
       "    }\n",
       "\n",
       "    .dataframe thead th {\n",
       "        text-align: right;\n",
       "    }\n",
       "</style>\n",
       "<table border=\"1\" class=\"dataframe\">\n",
       "  <thead>\n",
       "    <tr style=\"text-align: right;\">\n",
       "      <th></th>\n",
       "      <th>Apple_Daily_Return</th>\n",
       "      <th>Goog_Daily_Return</th>\n",
       "      <th>Gap_Daily_Return</th>\n",
       "      <th>Abbvie_Daily_Return</th>\n",
       "    </tr>\n",
       "    <tr>\n",
       "      <th>Date</th>\n",
       "      <th></th>\n",
       "      <th></th>\n",
       "      <th></th>\n",
       "      <th></th>\n",
       "    </tr>\n",
       "  </thead>\n",
       "  <tbody>\n",
       "    <tr>\n",
       "      <th>2019-09-30</th>\n",
       "      <td>NaN</td>\n",
       "      <td>NaN</td>\n",
       "      <td>NaN</td>\n",
       "      <td>NaN</td>\n",
       "    </tr>\n",
       "    <tr>\n",
       "      <th>2019-10-01</th>\n",
       "      <td>0.002764</td>\n",
       "      <td>-0.011468</td>\n",
       "      <td>-0.017432</td>\n",
       "      <td>-0.033437</td>\n",
       "    </tr>\n",
       "    <tr>\n",
       "      <th>2019-10-02</th>\n",
       "      <td>-0.025387</td>\n",
       "      <td>-0.023908</td>\n",
       "      <td>-0.036411</td>\n",
       "      <td>-0.015135</td>\n",
       "    </tr>\n",
       "    <tr>\n",
       "      <th>2019-10-03</th>\n",
       "      <td>0.008459</td>\n",
       "      <td>0.009474</td>\n",
       "      <td>0.003641</td>\n",
       "      <td>0.023566</td>\n",
       "    </tr>\n",
       "    <tr>\n",
       "      <th>2019-10-04</th>\n",
       "      <td>0.027646</td>\n",
       "      <td>0.017665</td>\n",
       "      <td>-0.017105</td>\n",
       "      <td>0.010909</td>\n",
       "    </tr>\n",
       "  </tbody>\n",
       "</table>\n",
       "</div>"
      ],
      "text/plain": [
       "            Apple_Daily_Return  Goog_Daily_Return  Gap_Daily_Return  \\\n",
       "Date                                                                  \n",
       "2019-09-30                 NaN                NaN               NaN   \n",
       "2019-10-01            0.002764          -0.011468         -0.017432   \n",
       "2019-10-02           -0.025387          -0.023908         -0.036411   \n",
       "2019-10-03            0.008459           0.009474          0.003641   \n",
       "2019-10-04            0.027646           0.017665         -0.017105   \n",
       "\n",
       "            Abbvie_Daily_Return  \n",
       "Date                             \n",
       "2019-09-30                  NaN  \n",
       "2019-10-01            -0.033437  \n",
       "2019-10-02            -0.015135  \n",
       "2019-10-03             0.023566  \n",
       "2019-10-04             0.010909  "
      ]
     },
     "execution_count": 99,
     "metadata": {},
     "output_type": "execute_result"
    }
   ],
   "source": [
    "df.head()"
   ]
  },
  {
   "cell_type": "code",
   "execution_count": 100,
   "metadata": {},
   "outputs": [],
   "source": [
    "df.dropna(inplace=True)"
   ]
  },
  {
   "cell_type": "code",
   "execution_count": 101,
   "metadata": {},
   "outputs": [
    {
     "data": {
      "text/html": [
       "<div>\n",
       "<style scoped>\n",
       "    .dataframe tbody tr th:only-of-type {\n",
       "        vertical-align: middle;\n",
       "    }\n",
       "\n",
       "    .dataframe tbody tr th {\n",
       "        vertical-align: top;\n",
       "    }\n",
       "\n",
       "    .dataframe thead th {\n",
       "        text-align: right;\n",
       "    }\n",
       "</style>\n",
       "<table border=\"1\" class=\"dataframe\">\n",
       "  <thead>\n",
       "    <tr style=\"text-align: right;\">\n",
       "      <th></th>\n",
       "      <th>Apple_Daily_Return</th>\n",
       "      <th>Goog_Daily_Return</th>\n",
       "      <th>Gap_Daily_Return</th>\n",
       "      <th>Abbvie_Daily_Return</th>\n",
       "    </tr>\n",
       "    <tr>\n",
       "      <th>Date</th>\n",
       "      <th></th>\n",
       "      <th></th>\n",
       "      <th></th>\n",
       "      <th></th>\n",
       "    </tr>\n",
       "  </thead>\n",
       "  <tbody>\n",
       "    <tr>\n",
       "      <th>2019-10-01</th>\n",
       "      <td>0.002764</td>\n",
       "      <td>-0.011468</td>\n",
       "      <td>-0.017432</td>\n",
       "      <td>-0.033437</td>\n",
       "    </tr>\n",
       "    <tr>\n",
       "      <th>2019-10-02</th>\n",
       "      <td>-0.025387</td>\n",
       "      <td>-0.023908</td>\n",
       "      <td>-0.036411</td>\n",
       "      <td>-0.015135</td>\n",
       "    </tr>\n",
       "    <tr>\n",
       "      <th>2019-10-03</th>\n",
       "      <td>0.008459</td>\n",
       "      <td>0.009474</td>\n",
       "      <td>0.003641</td>\n",
       "      <td>0.023566</td>\n",
       "    </tr>\n",
       "    <tr>\n",
       "      <th>2019-10-04</th>\n",
       "      <td>0.027646</td>\n",
       "      <td>0.017665</td>\n",
       "      <td>-0.017105</td>\n",
       "      <td>0.010909</td>\n",
       "    </tr>\n",
       "    <tr>\n",
       "      <th>2019-10-07</th>\n",
       "      <td>0.000220</td>\n",
       "      <td>-0.001092</td>\n",
       "      <td>0.020732</td>\n",
       "      <td>-0.004430</td>\n",
       "    </tr>\n",
       "  </tbody>\n",
       "</table>\n",
       "</div>"
      ],
      "text/plain": [
       "            Apple_Daily_Return  Goog_Daily_Return  Gap_Daily_Return  \\\n",
       "Date                                                                  \n",
       "2019-10-01            0.002764          -0.011468         -0.017432   \n",
       "2019-10-02           -0.025387          -0.023908         -0.036411   \n",
       "2019-10-03            0.008459           0.009474          0.003641   \n",
       "2019-10-04            0.027646           0.017665         -0.017105   \n",
       "2019-10-07            0.000220          -0.001092          0.020732   \n",
       "\n",
       "            Abbvie_Daily_Return  \n",
       "Date                             \n",
       "2019-10-01            -0.033437  \n",
       "2019-10-02            -0.015135  \n",
       "2019-10-03             0.023566  \n",
       "2019-10-04             0.010909  \n",
       "2019-10-07            -0.004430  "
      ]
     },
     "execution_count": 101,
     "metadata": {},
     "output_type": "execute_result"
    }
   ],
   "source": [
    "df.head()"
   ]
  },
  {
   "cell_type": "code",
   "execution_count": 102,
   "metadata": {},
   "outputs": [
    {
     "data": {
      "text/plain": [
       "Apple_Daily_Return     0.733695\n",
       "Goog_Daily_Return      0.186220\n",
       "Gap_Daily_Return       0.046272\n",
       "Abbvie_Daily_Return    0.214244\n",
       "dtype: float64"
      ]
     },
     "execution_count": 102,
     "metadata": {},
     "output_type": "execute_result"
    }
   ],
   "source": [
    "df.mean()*252"
   ]
  },
  {
   "cell_type": "code",
   "execution_count": 103,
   "metadata": {},
   "outputs": [
    {
     "data": {
      "text/plain": [
       "Apple_Daily_Return     0.443382\n",
       "Goog_Daily_Return      0.365968\n",
       "Gap_Daily_Return       0.885496\n",
       "Abbvie_Daily_Return    0.336710\n",
       "dtype: float64"
      ]
     },
     "execution_count": 103,
     "metadata": {},
     "output_type": "execute_result"
    }
   ],
   "source": [
    "df.std() * 252 ** 0.5"
   ]
  },
  {
   "cell_type": "code",
   "execution_count": 106,
   "metadata": {},
   "outputs": [
    {
     "name": "stdout",
     "output_type": "stream",
     "text": [
      "            Apple_Daily_Return  Goog_Daily_Return  Gap_Daily_Return  \\\n",
      "Date                                                                  \n",
      "2019-10-01            0.002764          -0.011468         -0.017432   \n",
      "2019-10-02           -0.025387          -0.023908         -0.036411   \n",
      "2019-10-03            0.008459           0.009474          0.003641   \n",
      "2019-10-04            0.027646           0.017665         -0.017105   \n",
      "2019-10-07            0.000220          -0.001092          0.020732   \n",
      "...                        ...                ...               ...   \n",
      "2020-09-24            0.010216           0.009200         -0.013995   \n",
      "2020-09-25            0.036830           0.011604         -0.001840   \n",
      "2020-09-28            0.023588           0.013446          0.054358   \n",
      "2020-09-29           -0.007597           0.003279         -0.028902   \n",
      "2020-09-30            0.014963           0.000184          0.018969   \n",
      "\n",
      "            Abbvie_Daily_Return  \n",
      "Date                             \n",
      "2019-10-01            -0.033437  \n",
      "2019-10-02            -0.015135  \n",
      "2019-10-03             0.023566  \n",
      "2019-10-04             0.010909  \n",
      "2019-10-07            -0.004430  \n",
      "...                         ...  \n",
      "2020-09-24            -0.014216  \n",
      "2020-09-25             0.003718  \n",
      "2020-09-28             0.012103  \n",
      "2020-09-29            -0.004478  \n",
      "2020-09-30             0.008024  \n",
      "\n",
      "[253 rows x 4 columns]\n"
     ]
    }
   ],
   "source": [
    "\n",
    "# Create an empty dataframe\n",
    "df2 = pd.DataFrame(columns = ['Stock_Name', 'Avg_Returns', 'Avg_Stdev', 'Weight']) \n",
    "print(df) \n",
    "  \n",
    "# append rows to an empty DataFrame \n",
    "df2 = df2.append({'Stock_Name' : 'Apple', 'Avg_Returns' : df['Apple_Daily_Return'].mean()*252, 'Avg_Stdev' : df['Apple_Daily_Return'].std() * 252 ** 0.5,'Weight':'Weight_Apple'},  \n",
    "                ignore_index = True) \n",
    "\n",
    "df2 = df2.append({'Stock_Name' : 'Goog', 'Avg_Returns' : df['Goog_Daily_Return'].mean()*252, 'Avg_Stdev' : df['Goog_Daily_Return'].std() * 252 ** 0.5,'Weight':'Weight_Goog'},  \n",
    "                ignore_index = True) \n",
    "\n",
    "df2 = df2.append({'Stock_Name' : 'Gap', 'Avg_Returns' : df['Gap_Daily_Return'].mean()*252, 'Avg_Stdev' : df['Gap_Daily_Return'].std() * 252 ** 0.5,'Weight':'Weight_Gap'},  \n",
    "                ignore_index = True) \n",
    "\n",
    "df2 = df2.append({'Stock_Name' : 'Abbvie', 'Avg_Returns' : df['Abbvie_Daily_Return'].mean()*252, 'Avg_Stdev' : df['Abbvie_Daily_Return'].std() * 252 ** 0.5,'Weight':'Weight_Abbvie'},  \n",
    "                ignore_index = True)\n"
   ]
  },
  {
   "cell_type": "code",
   "execution_count": 107,
   "metadata": {},
   "outputs": [
    {
     "data": {
      "text/html": [
       "<div>\n",
       "<style scoped>\n",
       "    .dataframe tbody tr th:only-of-type {\n",
       "        vertical-align: middle;\n",
       "    }\n",
       "\n",
       "    .dataframe tbody tr th {\n",
       "        vertical-align: top;\n",
       "    }\n",
       "\n",
       "    .dataframe thead th {\n",
       "        text-align: right;\n",
       "    }\n",
       "</style>\n",
       "<table border=\"1\" class=\"dataframe\">\n",
       "  <thead>\n",
       "    <tr style=\"text-align: right;\">\n",
       "      <th></th>\n",
       "      <th>Stock_Name</th>\n",
       "      <th>Avg_Returns</th>\n",
       "      <th>Avg_Stdev</th>\n",
       "      <th>Weight</th>\n",
       "    </tr>\n",
       "  </thead>\n",
       "  <tbody>\n",
       "    <tr>\n",
       "      <th>0</th>\n",
       "      <td>Apple</td>\n",
       "      <td>0.733695</td>\n",
       "      <td>0.443382</td>\n",
       "      <td>Weight_Apple</td>\n",
       "    </tr>\n",
       "    <tr>\n",
       "      <th>1</th>\n",
       "      <td>Goog</td>\n",
       "      <td>0.186220</td>\n",
       "      <td>0.365968</td>\n",
       "      <td>Weight_Goog</td>\n",
       "    </tr>\n",
       "    <tr>\n",
       "      <th>2</th>\n",
       "      <td>Gap</td>\n",
       "      <td>0.046272</td>\n",
       "      <td>0.885496</td>\n",
       "      <td>Weight_Gap</td>\n",
       "    </tr>\n",
       "    <tr>\n",
       "      <th>3</th>\n",
       "      <td>Abbvie</td>\n",
       "      <td>0.214244</td>\n",
       "      <td>0.336710</td>\n",
       "      <td>Weight_Abbvie</td>\n",
       "    </tr>\n",
       "  </tbody>\n",
       "</table>\n",
       "</div>"
      ],
      "text/plain": [
       "  Stock_Name  Avg_Returns  Avg_Stdev         Weight\n",
       "0      Apple     0.733695   0.443382   Weight_Apple\n",
       "1       Goog     0.186220   0.365968    Weight_Goog\n",
       "2        Gap     0.046272   0.885496     Weight_Gap\n",
       "3     Abbvie     0.214244   0.336710  Weight_Abbvie"
      ]
     },
     "execution_count": 107,
     "metadata": {},
     "output_type": "execute_result"
    }
   ],
   "source": [
    "df2.head()"
   ]
  },
  {
   "cell_type": "markdown",
   "metadata": {},
   "source": [
    "<div class=\"alert alert-block alert-success\"><b>Create the PuLP problem variable. It is a Max return problem, we need to use LpMaximize</b></div>"
   ]
  },
  {
   "cell_type": "code",
   "execution_count": 151,
   "metadata": {},
   "outputs": [],
   "source": [
    "\n",
    "prob = LpProblem(\"MaxReturn\",LpMaximize)"
   ]
  },
  {
   "cell_type": "code",
   "execution_count": 112,
   "metadata": {},
   "outputs": [],
   "source": [
    "# Creates a list of Stocks\n",
    "Stocks = list(df2['Stock_Name'])"
   ]
  },
  {
   "cell_type": "code",
   "execution_count": 113,
   "metadata": {},
   "outputs": [
    {
     "data": {
      "text/plain": [
       "['Apple', 'Goog', 'Gap', 'Abbvie']"
      ]
     },
     "execution_count": 113,
     "metadata": {},
     "output_type": "execute_result"
    }
   ],
   "source": [
    "Stocks"
   ]
  },
  {
   "cell_type": "code",
   "execution_count": 131,
   "metadata": {},
   "outputs": [],
   "source": [
    "Returns = dict(zip(Stocks,df2['Avg_Returns']*100))"
   ]
  },
  {
   "cell_type": "code",
   "execution_count": 132,
   "metadata": {},
   "outputs": [
    {
     "data": {
      "text/plain": [
       "{'Apple': 73.36946625493249,\n",
       " 'Goog': 18.622041789463893,\n",
       " 'Gap': 4.627249836775453,\n",
       " 'Abbvie': 21.424447938087432}"
      ]
     },
     "execution_count": 132,
     "metadata": {},
     "output_type": "execute_result"
    }
   ],
   "source": [
    "Returns"
   ]
  },
  {
   "cell_type": "code",
   "execution_count": 133,
   "metadata": {},
   "outputs": [],
   "source": [
    "Vol = dict(zip(Stocks,df2['Avg_Stdev']*100))"
   ]
  },
  {
   "cell_type": "code",
   "execution_count": 134,
   "metadata": {},
   "outputs": [
    {
     "data": {
      "text/plain": [
       "{'Apple': 44.33823883557515,\n",
       " 'Goog': 36.59681562614123,\n",
       " 'Gap': 88.54958075639173,\n",
       " 'Abbvie': 33.67101095523965}"
      ]
     },
     "execution_count": 134,
     "metadata": {},
     "output_type": "execute_result"
    }
   ],
   "source": [
    "Vol"
   ]
  },
  {
   "cell_type": "code",
   "execution_count": 135,
   "metadata": {},
   "outputs": [],
   "source": [
    "#Create a dictionary of Stocks Weights with lower bound. Short sale not allowed\n",
    "Stock_Weights = LpVariable.dicts(\"Weight\",Stocks,0,cat='Continuous')\n",
    "\n"
   ]
  },
  {
   "cell_type": "code",
   "execution_count": 136,
   "metadata": {},
   "outputs": [
    {
     "data": {
      "text/plain": [
       "{'Apple': Weight_Apple,\n",
       " 'Goog': Weight_Goog,\n",
       " 'Gap': Weight_Gap,\n",
       " 'Abbvie': Weight_Abbvie}"
      ]
     },
     "execution_count": 136,
     "metadata": {},
     "output_type": "execute_result"
    }
   ],
   "source": [
    "Stock_Weights"
   ]
  },
  {
   "cell_type": "markdown",
   "metadata": {},
   "source": [
    "<div class=\"alert alert-block alert-info\"><b>Adding Objective Function</b><br>\n",
    "Max(WA * RA+ WG * RG + WGa * RGa + WAb * RAb)</div>"
   ]
  },
  {
   "cell_type": "code",
   "execution_count": 137,
   "metadata": {},
   "outputs": [],
   "source": [
    "prob += lpSum([Returns[i]*Stock_Weights[i] for i in Stocks]), \"Total Return of the Portfolio\""
   ]
  },
  {
   "cell_type": "markdown",
   "metadata": {},
   "source": [
    "<div class=\"alert alert-block alert-info\"><b>Adding Risk Constraint</b><br>\n",
    "WA * sigmaA + WG * sigmaG + WGa * sigmaGa + WAb * sigmaAb <= 40% </div>"
   ]
  },
  {
   "cell_type": "code",
   "execution_count": 139,
   "metadata": {},
   "outputs": [],
   "source": [
    "prob += lpSum([Vol[f] * Stock_Weights[f] for f in Stocks]) <= 40.0, \"Volatility Constraint\""
   ]
  },
  {
   "cell_type": "markdown",
   "metadata": {},
   "source": [
    "<div class=\"alert alert-block alert-info\"><b>Total Weight = 1</b><br>\n",
    "WA  + WG  + WGa  + WAb = 1 </div>"
   ]
  },
  {
   "cell_type": "code",
   "execution_count": 143,
   "metadata": {},
   "outputs": [],
   "source": [
    "prob += lpSum( [Stock_Weights[f] for f in Stocks]) == 1.0, \"Weight Constraint\""
   ]
  },
  {
   "cell_type": "code",
   "execution_count": 144,
   "metadata": {},
   "outputs": [
    {
     "data": {
      "text/plain": [
       "[Weight_Abbvie, Weight_Apple, Weight_Gap, Weight_Goog]"
      ]
     },
     "execution_count": 144,
     "metadata": {},
     "output_type": "execute_result"
    }
   ],
   "source": [
    "prob.writeLP(\"Max_Return.lp\")"
   ]
  },
  {
   "cell_type": "markdown",
   "metadata": {},
   "source": [
    "<div class=\"alert alert-block alert-info\"><b>Run the Solver</b><br>\n",
    " </div>"
   ]
  },
  {
   "cell_type": "code",
   "execution_count": 146,
   "metadata": {},
   "outputs": [
    {
     "name": "stdout",
     "output_type": "stream",
     "text": [
      "Status: Optimal\n"
     ]
    }
   ],
   "source": [
    "prob.solve()\n",
    "print(\"Status:\", LpStatus[prob.status])"
   ]
  },
  {
   "cell_type": "code",
   "execution_count": 149,
   "metadata": {},
   "outputs": [
    {
     "name": "stdout",
     "output_type": "stream",
     "text": [
      "Optimal Portfolio Weights\n",
      "--------------------------------------------------------------------------------------------------------------\n",
      "Weight_Abbvie = 40.668849\n",
      "Weight_Apple = 59.331151000000006\n"
     ]
    }
   ],
   "source": [
    "print(\"Optimal Portfolio Weights\\n\"+\"-\"*110)\n",
    "for v in prob.variables():\n",
    "    if v.varValue>0:\n",
    "        print(v.name, \"=\", v.varValue * 100)"
   ]
  },
  {
   "cell_type": "code",
   "execution_count": null,
   "metadata": {},
   "outputs": [],
   "source": []
  }
 ],
 "metadata": {
  "kernelspec": {
   "display_name": "Python 3",
   "language": "python",
   "name": "python3"
  },
  "language_info": {
   "codemirror_mode": {
    "name": "ipython",
    "version": 3
   },
   "file_extension": ".py",
   "mimetype": "text/x-python",
   "name": "python",
   "nbconvert_exporter": "python",
   "pygments_lexer": "ipython3",
   "version": "3.7.1"
  }
 },
 "nbformat": 4,
 "nbformat_minor": 2
}
